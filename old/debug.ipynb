{
 "cells": [
  {
   "cell_type": "code",
   "execution_count": 1,
   "metadata": {},
   "outputs": [
    {
     "name": "stderr",
     "output_type": "stream",
     "text": [
      "/Users/tristan/miniconda3/envs/deep/lib/python3.9/site-packages/tqdm/auto.py:22: TqdmWarning: IProgress not found. Please update jupyter and ipywidgets. See https://ipywidgets.readthedocs.io/en/stable/user_install.html\n",
      "  from .autonotebook import tqdm as notebook_tqdm\n"
     ]
    }
   ],
   "source": [
    "import torch\n",
    "import numpy as np\n",
    "import torch.nn as nn\n",
    "import torch.nn.functional as F\n",
    "import torch.optim as optim\n",
    "import matplotlib.pyplot as plt\n",
    "from sklearn.cluster import KMeans\n",
    "from tqdm import tqdm"
   ]
  },
  {
   "cell_type": "code",
   "execution_count": 2,
   "metadata": {},
   "outputs": [],
   "source": [
    "X = np.array([\n",
    "    [1,1,1,1,1,1],\n",
    "    [2,2,2,2,2,2],\n",
    "    [3,3,3,3,3,3]\n",
    "])"
   ]
  },
  {
   "cell_type": "code",
   "execution_count": 3,
   "metadata": {},
   "outputs": [
    {
     "data": {
      "image/png": "[encoded data removed]",
      "text/plain": [
       "<Figure size 432x288 with 1 Axes>"
      ]
     },
     "metadata": {
      "needs_background": "light"
     },
     "output_type": "display_data"
    }
   ],
   "source": [
    "plt.plot(range(6), X[0], marker='x')\n",
    "plt.plot(range(6), X[1], marker='x')\n",
    "plt.plot(range(6), X[2], marker='x')\n",
    "plt.show()"
   ]
  },
  {
   "cell_type": "code",
   "execution_count": 4,
   "metadata": {},
   "outputs": [
    {
     "data": {
      "text/plain": [
       "torch.Size([3, 1, 6])"
      ]
     },
     "execution_count": 4,
     "metadata": {},
     "output_type": "execute_result"
    }
   ],
   "source": [
    "dataset = torch.tensor(X).unsqueeze(1).to(torch.float)\n",
    "dataset.shape"
   ]
  },
  {
   "cell_type": "code",
   "execution_count": 5,
   "metadata": {},
   "outputs": [],
   "source": [
    "class Encoder(nn.Module):\n",
    "    def __init__(self) -> None:\n",
    "        super().__init__()\n",
    "        self.cnn = nn.Conv1d(1,1,4,1)\n",
    "\n",
    "    def forward(self, x):\n",
    "        return F.relu(self.cnn(x))\n",
    "\n",
    "class Decoder(nn.Module):\n",
    "    def __init__(self) -> None:\n",
    "        super().__init__()\n",
    "        self.decoder = nn.ConvTranspose1d(1,1,4,1)\n",
    "    \n",
    "    def forward(self,x):\n",
    "        return F.relu(self.decoder(x))\n",
    "\n",
    "\n",
    "class TAE(nn.Module):\n",
    "    def __init__(self, encoder, decoder) -> None:\n",
    "        super().__init__()\n",
    "        self.encoder = encoder \n",
    "        self.decoder = decoder \n",
    "\n",
    "    def forward(self, x):\n",
    "        l = self.encoder(x)\n",
    "        x_prime = self.decoder(l)\n",
    "        return l, x_prime"
   ]
  },
  {
   "cell_type": "code",
   "execution_count": 6,
   "metadata": {},
   "outputs": [],
   "source": [
    "encoder = Encoder()\n",
    "decoder = Decoder()\n",
    "ae = TAE(encoder, decoder)"
   ]
  },
  {
   "cell_type": "code",
   "execution_count": 7,
   "metadata": {},
   "outputs": [],
   "source": [
    "optimizer = optim.SGD(ae.parameters(), lr=0.05)\n",
    "criterion = nn.MSELoss()"
   ]
  },
  {
   "cell_type": "code",
   "execution_count": 8,
   "metadata": {},
   "outputs": [
    {
     "name": "stdout",
     "output_type": "stream",
     "text": [
      "3.9111175537109375\n",
      "2.1218974590301514\n",
      "0.7290696501731873\n",
      "0.5833157896995544\n",
      "0.4786536395549774\n",
      "0.39811018109321594\n",
      "0.3335622549057007\n",
      "0.28072988986968994\n",
      "0.2368721216917038\n",
      "0.20023895800113678\n",
      "0.16952885687351227\n",
      "0.14378388226032257\n",
      "0.12221964448690414\n",
      "0.10419479012489319\n",
      "0.08915629982948303\n",
      "0.07662976533174515\n",
      "0.06620277464389801\n",
      "0.05752114951610565\n",
      "0.05028238892555237\n",
      "0.044231489300727844\n",
      "0.039155662059783936\n",
      "0.034879401326179504\n",
      "0.03125888854265213\n",
      "0.028177082538604736\n",
      "0.025539085268974304\n"
     ]
    }
   ],
   "source": [
    "ls = []\n",
    "\n",
    "for i in range(25):\n",
    "    l, x_prime = ae(dataset)\n",
    "    loss = criterion(x_prime, dataset)\n",
    "\n",
    "    optimizer.zero_grad()\n",
    "    loss.backward()\n",
    "    optimizer.step()\n",
    "\n",
    "    ls.append(l.detach().numpy())\n",
    "    print(loss.item())\n"
   ]
  },
  {
   "cell_type": "code",
   "execution_count": 9,
   "metadata": {},
   "outputs": [],
   "source": [
    "ls = [i.squeeze(1) for i in ls]"
   ]
  },
  {
   "cell_type": "code",
   "execution_count": 10,
   "metadata": {},
   "outputs": [
    {
     "data": {
      "image/png": "[encoded data removed]",
      "text/plain": [
       "<Figure size 432x288 with 1 Axes>"
      ]
     },
     "metadata": {
      "needs_background": "light"
     },
     "output_type": "display_data"
    }
   ],
   "source": [
    "for i in range(25):\n",
    "    for j in range(3):\n",
    "        plt.plot(range(3), ls[i][0], c='r', alpha=i * 0.01)\n",
    "        plt.plot(range(3), ls[i][1], c='g', alpha=i * 0.01)\n",
    "        plt.plot(range(3), ls[i][2], c='b', alpha=i * 0.01)"
   ]
  },
  {
   "cell_type": "code",
   "execution_count": 11,
   "metadata": {},
   "outputs": [],
   "source": [
    "l, x_prime = ae(dataset)"
   ]
  },
  {
   "cell_type": "code",
   "execution_count": 12,
   "metadata": {},
   "outputs": [],
   "source": [
    "centroids = np.array([\n",
    "    [-1,-1,-1],\n",
    "    [2,2,2],\n",
    "    [5,5,5]\n",
    "])"
   ]
  },
  {
   "cell_type": "code",
   "execution_count": 13,
   "metadata": {},
   "outputs": [
    {
     "data": {
      "text/plain": [
       "torch.Size([3, 1, 3])"
      ]
     },
     "execution_count": 13,
     "metadata": {},
     "output_type": "execute_result"
    }
   ],
   "source": [
    "centroids = torch.tensor(centroids).unsqueeze(1).to(torch.float)\n",
    "centroids.shape"
   ]
  },
  {
   "cell_type": "code",
   "execution_count": 14,
   "metadata": {},
   "outputs": [],
   "source": [
    "# for i in range(25):\n",
    "#     for j in range(3):\n",
    "#         plt.plot(range(3), ls[i][0], c='r', alpha=i * 0.01)\n",
    "#         plt.plot(range(3), ls[i][1], c='g', alpha=i * 0.01)\n",
    "#         plt.plot(range(3), ls[i][2], c='b', alpha=i * 0.01)\n",
    "\n",
    "# plt.plot(range(3), centroids[0], c='black')\n",
    "# plt.plot(range(3), centroids[1], c='black')\n",
    "# plt.plot(range(3), centroids[2], c='black')\n",
    "# plt.show()"
   ]
  },
  {
   "cell_type": "code",
   "execution_count": 15,
   "metadata": {},
   "outputs": [],
   "source": [
    "class ClusterLayer(nn.Module):\n",
    "    def __init__(self, encoder, centroids) -> None:\n",
    "        super().__init__()\n",
    "        self.encoder = encoder \n",
    "        self.centroids = nn.Parameter(centroids)\n",
    "    \n",
    "    def euclidean_distance(self, x, y):\n",
    "        dists = torch.zeros(3,3)\n",
    "\n",
    "        for i in range(3):\n",
    "            d = []\n",
    "            for j in range(3):\n",
    "                a = x[i].flatten()\n",
    "                b = y[j].flatten()\n",
    "                euc = ((a-b)**2).sum()\n",
    "                dists[i][j] = euc\n",
    "        return dists\n",
    "\n",
    "    def students_t_distribution_kernel(self, x, alpha=1):\n",
    "        num = torch.pow((1 + x / alpha), -(alpha + 1) / 2)\n",
    "        denom = num.sum(dim=1).reshape(-1, 1).repeat(1, 3)\n",
    "        return num / denom\n",
    "\n",
    "    def target_distribution(self, Q):\n",
    "        F = Q.sum(dim=0)\n",
    "        num = (Q ** 2) / F\n",
    "        denom = num.sum(dim=1).reshape(-1, 1).repeat(1, Q.shape[-1])\n",
    "        return num / denom\n",
    "\n",
    "    def forward(self, x):\n",
    "        l = self.encoder(x)\n",
    "        D = self.euclidean_distance(l, self.centroids)\n",
    "        Q = self.students_t_distribution_kernel(D)\n",
    "        P = self.target_distribution(Q)\n",
    "        return l, torch.log(Q), torch.log(P)"
   ]
  },
  {
   "cell_type": "code",
   "execution_count": 16,
   "metadata": {},
   "outputs": [],
   "source": [
    "cl = ClusterLayer(encoder=encoder, centroids=centroids)"
   ]
  },
  {
   "cell_type": "code",
   "execution_count": 17,
   "metadata": {},
   "outputs": [],
   "source": [
    "optimizer = optim.SGD(cl.parameters(), lr=0.001)\n",
    "mse = nn.MSELoss()\n",
    "kl = nn.KLDivLoss(reduction='batchmean', log_target=True)"
   ]
  },
  {
   "cell_type": "code",
   "execution_count": 18,
   "metadata": {},
   "outputs": [
    {
     "data": {
      "image/png": "[encoded data removed]",
      "text/plain": [
       "<Figure size 432x288 with 1 Axes>"
      ]
     },
     "metadata": {
      "needs_background": "light"
     },
     "output_type": "display_data"
    },
    {
     "data": {
      "image/png": "[encoded data removed]",
      "text/plain": [
       "<Figure size 432x288 with 1 Axes>"
      ]
     },
     "metadata": {
      "needs_background": "light"
     },
     "output_type": "display_data"
    },
    {
     "data": {
      "image/png": "[encoded data removed]",
      "text/plain": [
       "<Figure size 432x288 with 1 Axes>"
      ]
     },
     "metadata": {
      "needs_background": "light"
     },
     "output_type": "display_data"
    },
    {
     "data": {
      "image/png": "[encoded data removed]",
      "text/plain": [
       "<Figure size 432x288 with 1 Axes>"
      ]
     },
     "metadata": {
      "needs_background": "light"
     },
     "output_type": "display_data"
    },
    {
     "data": {
      "image/png": "[encoded data removed]",
      "text/plain": [
       "<Figure size 432x288 with 1 Axes>"
      ]
     },
     "metadata": {
      "needs_background": "light"
     },
     "output_type": "display_data"
    },
    {
     "data": {
      "image/png": "[encoded data removed]",
      "text/plain": [
       "<Figure size 432x288 with 1 Axes>"
      ]
     },
     "metadata": {
      "needs_background": "light"
     },
     "output_type": "display_data"
    },
    {
     "data": {
      "image/png": "[encoded data removed]",
      "text/plain": [
       "<Figure size 432x288 with 1 Axes>"
      ]
     },
     "metadata": {
      "needs_background": "light"
     },
     "output_type": "display_data"
    },
    {
     "data": {
      "image/png": "[encoded data removed]",
      "text/plain": [
       "<Figure size 432x288 with 1 Axes>"
      ]
     },
     "metadata": {
      "needs_background": "light"
     },
     "output_type": "display_data"
    },
    {
     "data": {
      "image/png": "[encoded data removed]",
      "text/plain": [
       "<Figure size 432x288 with 1 Axes>"
      ]
     },
     "metadata": {
      "needs_background": "light"
     },
     "output_type": "display_data"
    }
   ],
   "source": [
    "mse_data = []\n",
    "kl_data = []\n",
    "ls = []\n",
    "cents = []\n",
    "\n",
    "for i in range(100000):\n",
    "    l, P, Q = cl(dataset)\n",
    "    x_prime = decoder(l)\n",
    "\n",
    "    mse_loss = mse(dataset, x_prime)\n",
    "    kl_loss = kl(Q, P)\n",
    "\n",
    "    dtc_loss = mse_loss +  kl_loss\n",
    "\n",
    "    optimizer.zero_grad()\n",
    "    dtc_loss.backward()\n",
    "    optimizer.step()\n",
    "\n",
    "    mse_data.append(mse_loss.item())\n",
    "    kl_data.append(kl_loss.item())\n",
    "\n",
    "    if i % 100 == 0:\n",
    "        ls.append(l)\n",
    "        cents.append(cl.centroids)\n",
    "\n",
    "    if i % 10000 == 0:\n",
    "        if i  == 0:\n",
    "            continue\n",
    "        ls = [i.squeeze(1).detach() for i in ls]\n",
    "        cents = [i.squeeze(1).detach() for i in cents]\n",
    "\n",
    "        for i in range(len(ls)):\n",
    "            for j in range(3):\n",
    "                plt.plot(range(3), ls[i][0], c='r')#, alpha=i * 0.01)\n",
    "                plt.plot(range(3), ls[i][1], c='g')#, alpha=i * 0.01)\n",
    "                plt.plot(range(3), ls[i][2], c='b')#, alpha=i * 0.01)\n",
    "                plt.plot(range(3), cents[i][0], c='black')#, alpha=i * 0.01)\n",
    "                plt.plot(range(3), cents[i][1], c='black')#, alpha=i * 0.01)\n",
    "                plt.plot(range(3), cents[i][2], c='black')#, alpha=i * 0.01)\n",
    "\n",
    "        plt.show()\n",
    "\n",
    "        ls = []\n",
    "        cents = []\n"
   ]
  },
  {
   "cell_type": "code",
   "execution_count": null,
   "metadata": {},
   "outputs": [],
   "source": []
  },
  {
   "cell_type": "code",
   "execution_count": null,
   "metadata": {},
   "outputs": [],
   "source": []
  },
  {
   "cell_type": "code",
   "execution_count": null,
   "metadata": {},
   "outputs": [],
   "source": []
  },
  {
   "cell_type": "code",
   "execution_count": null,
   "metadata": {},
   "outputs": [],
   "source": []
  },
  {
   "cell_type": "code",
   "execution_count": null,
   "metadata": {},
   "outputs": [],
   "source": []
  },
  {
   "cell_type": "code",
   "execution_count": null,
   "metadata": {},
   "outputs": [],
   "source": []
  },
  {
   "cell_type": "code",
   "execution_count": null,
   "metadata": {},
   "outputs": [],
   "source": [
    "plt.plot(range(len(mse_data)), mse_data)\n",
    "plt.show()"
   ]
  },
  {
   "cell_type": "code",
   "execution_count": null,
   "metadata": {},
   "outputs": [],
   "source": [
    "plt.plot(range(len(kl_data)), kl_data)\n",
    "plt.show()"
   ]
  },
  {
   "cell_type": "code",
   "execution_count": null,
   "metadata": {},
   "outputs": [],
   "source": [
    "ls = [i.squeeze(1).detach() for i in ls]\n",
    "cents = [i.squeeze(1).detach() for i in cents]"
   ]
  },
  {
   "cell_type": "code",
   "execution_count": null,
   "metadata": {},
   "outputs": [],
   "source": [
    "for i in range(len(ls)):\n",
    "    for j in range(3):\n",
    "        plt.plot(range(3), ls[i][0], c='r')#, alpha=i * 0.01)\n",
    "        plt.plot(range(3), ls[i][1], c='g')#, alpha=i * 0.01)\n",
    "        plt.plot(range(3), ls[i][2], c='b')#, alpha=i * 0.01)\n",
    "        plt.plot(range(3), cents[i][0], c='black')#, alpha=i * 0.01)\n",
    "        plt.plot(range(3), cents[i][1], c='black')#, alpha=i * 0.01)\n",
    "        plt.plot(range(3), cents[i][2], c='black')#, alpha=i * 0.01)"
   ]
  },
  {
   "cell_type": "code",
   "execution_count": null,
   "metadata": {},
   "outputs": [],
   "source": [
    "ls"
   ]
  },
  {
   "cell_type": "code",
   "execution_count": null,
   "metadata": {},
   "outputs": [],
   "source": []
  }
 ],
 "metadata": {
  "kernelspec": {
   "display_name": "Python 3.9.12 ('deep')",
   "language": "python",
   "name": "python3"
  },
  "language_info": {
   "codemirror_mode": {
    "name": "ipython",
    "version": 3
   },
   "file_extension": ".py",
   "mimetype": "text/x-python",
   "name": "python",
   "nbconvert_exporter": "python",
   "pygments_lexer": "ipython3",
   "version": "3.9.12"
  },
  "orig_nbformat": 4,
  "vscode": {
   "interpreter": {
    "hash": "6a2a3a3af096816301c7178121b9f28748e16a7be369f0d245d4beffb3ebaa12"
   }
  }
 },
 "nbformat": 4,
 "nbformat_minor": 2
}
