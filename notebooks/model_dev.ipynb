{
 "cells": [
  {
   "cell_type": "code",
   "execution_count": 1,
   "metadata": {},
   "outputs": [
    {
     "name": "stderr",
     "output_type": "stream",
     "text": [
      "/Users/tristan/miniconda3/envs/deep/lib/python3.9/site-packages/tqdm/auto.py:22: TqdmWarning: IProgress not found. Please update jupyter and ipywidgets. See https://ipywidgets.readthedocs.io/en/stable/user_install.html\n",
      "  from .autonotebook import tqdm as notebook_tqdm\n"
     ]
    }
   ],
   "source": [
    "import torch.nn as nn\n",
    "import torch.nn.functional as F\n",
    "import torch"
   ]
  },
  {
   "cell_type": "code",
   "execution_count": 97,
   "metadata": {},
   "outputs": [],
   "source": [
    "class AutoEncoder(nn.Module):\n",
    "    def __init__(self, cnn_kernel=1, cnn_stride=1, mp_kernel=6, mp_stride=1, lstm_hidden_dim=3):\n",
    "        super().__init__()\n",
    "        self.lstm_hidden_dim = lstm_hidden_dim\n",
    "\n",
    "        self.cnn_one = nn.Conv1d(in_channels=1, out_channels=1, kernel_size=cnn_kernel, stride=cnn_stride, padding=0)\n",
    "        self.max_pool_one = nn.MaxPool1d(kernel_size=mp_kernel, stride=mp_stride, padding=0)\n",
    "        \n",
    "        self.bi_lstm = nn.LSTM(\n",
    "            input_size=1,\n",
    "            hidden_size=lstm_hidden_dim,\n",
    "            num_layers=2,\n",
    "            batch_first=True,\n",
    "            dropout=0,\n",
    "            bidirectional=True,\n",
    "        )\n",
    "\n",
    "\n",
    "        self.upsample = nn.Upsample(scale_factor=mp_kernel)\n",
    "\n",
    "        # self.upsample = nn.Upsample(size=mp_kernel, mode='nearest')\n",
    "        # self.up_layer = nn.Upsample(size=3)\n",
    "        # self.deconv_layer = nn.ConvTranspose1d(\n",
    "        #     in_channels=lstm_hidden_dim,\n",
    "        #     out_channels=lstm_hidden_dim,\n",
    "        #     kernel_size=10,\n",
    "        #     stride=1,\n",
    "        #     padding=mp_kernel // 2,\n",
    "        # )\n",
    "        # self.deconv = nn.ConvTranspose1d(in_channels=1, out_channels=1,)\n",
    "\n",
    "    def forward(self, x):\n",
    "        print(x.shape)\n",
    "        x = x.permute(0, 2, 1)\n",
    "        print(x.shape)\n",
    "        print('-'*50)\n",
    "\n",
    "\n",
    "\n",
    "        x = F.leaky_relu(self.cnn_one(x))\n",
    "        print(x.shape)\n",
    "        print('-'*50)\n",
    "        x = self.max_pool_one(x)\n",
    "        \n",
    "        \n",
    "        print(x.shape)\n",
    "        x = x.permute(0, 2, 1)\n",
    "        print(x.shape)\n",
    "        print('-'*50)\n",
    "\n",
    "\n",
    "\n",
    "        x, (_, _) = self.bi_lstm(x)\n",
    "\n",
    "        print(x.shape)\n",
    "        print('-'*50)\n",
    "\n",
    "\n",
    "        x = torch.sum(\n",
    "            x.view(\n",
    "                x.shape[0], x.shape[1], 2, self.lstm_hidden_dim\n",
    "            ),\n",
    "            dim=2,\n",
    "        )\n",
    "\n",
    "        print(x.shape)\n",
    "        print('-'*50)\n",
    "\n",
    "        # print(x)\n",
    "        # print('-'*50)\n",
    "\n",
    "        # x = self.up_layer(x)\n",
    "\n",
    "        # print(x)\n",
    "        # print('-'*50)\n",
    "\n",
    "        # x = self.deconv_layer(x)\n",
    "\n",
    "        # print(x)\n",
    "\n",
    "\n",
    "\n",
    "        # Forward and backward outputs summed\n",
    "        # Can't be concatenated as clustering level expected 1D series\n",
    "        # Paper doesn't specify\n",
    "        # x = x[:, :, :self.lstm_hidden_dim] + x[:, :, self.lstm_hidden_dim:]\n",
    "        # print(x)\n",
    "        # print('-'*50)\n",
    "\n",
    "        # print(x.shape)\n",
    "\n",
    "        # x = self.upsample(x)\n",
    "        # print(x.shape)\n",
    "        # print(x)\n",
    "\n",
    "        # return x\n",
    "\n",
    "\n",
    "\n"
   ]
  },
  {
   "cell_type": "code",
   "execution_count": 98,
   "metadata": {},
   "outputs": [],
   "source": [
    "x = torch.tensor([\n",
    "    [[1]] * 10,\n",
    "    [[1]] * 10,\n",
    "]).to(torch.float32)"
   ]
  },
  {
   "cell_type": "code",
   "execution_count": 99,
   "metadata": {},
   "outputs": [
    {
     "data": {
      "text/plain": [
       "torch.Size([2, 10, 1])"
      ]
     },
     "execution_count": 99,
     "metadata": {},
     "output_type": "execute_result"
    }
   ],
   "source": [
    "x.shape"
   ]
  },
  {
   "cell_type": "code",
   "execution_count": 100,
   "metadata": {},
   "outputs": [],
   "source": [
    "network = AutoEncoder()"
   ]
  },
  {
   "cell_type": "code",
   "execution_count": 101,
   "metadata": {},
   "outputs": [
    {
     "name": "stdout",
     "output_type": "stream",
     "text": [
      "torch.Size([2, 10, 1])\n",
      "torch.Size([2, 1, 10])\n",
      "--------------------------------------------------\n",
      "torch.Size([2, 1, 10])\n",
      "--------------------------------------------------\n",
      "torch.Size([2, 1, 5])\n",
      "torch.Size([2, 5, 1])\n",
      "--------------------------------------------------\n",
      "torch.Size([2, 5, 6])\n",
      "--------------------------------------------------\n",
      "torch.Size([2, 5, 3])\n",
      "--------------------------------------------------\n"
     ]
    }
   ],
   "source": [
    "network(x)"
   ]
  },
  {
   "cell_type": "code",
   "execution_count": null,
   "metadata": {},
   "outputs": [],
   "source": []
  },
  {
   "cell_type": "code",
   "execution_count": null,
   "metadata": {},
   "outputs": [],
   "source": []
  },
  {
   "cell_type": "code",
   "execution_count": 36,
   "metadata": {},
   "outputs": [],
   "source": [
    "x = torch.tensor([[[1,1]], [[1,1]]]).to(torch.float32)"
   ]
  },
  {
   "cell_type": "code",
   "execution_count": 37,
   "metadata": {},
   "outputs": [
    {
     "data": {
      "text/plain": [
       "tensor([[[1., 1.]],\n",
       "\n",
       "        [[1., 1.]]])"
      ]
     },
     "execution_count": 37,
     "metadata": {},
     "output_type": "execute_result"
    }
   ],
   "source": [
    "x"
   ]
  },
  {
   "cell_type": "code",
   "execution_count": 38,
   "metadata": {},
   "outputs": [],
   "source": [
    "layer = nn.Upsample(scale_factor=2)"
   ]
  },
  {
   "cell_type": "code",
   "execution_count": 39,
   "metadata": {},
   "outputs": [
    {
     "data": {
      "text/plain": [
       "tensor([[[1., 1., 1., 1.]],\n",
       "\n",
       "        [[1., 1., 1., 1.]]])"
      ]
     },
     "execution_count": 39,
     "metadata": {},
     "output_type": "execute_result"
    }
   ],
   "source": [
    "layer(x)"
   ]
  },
  {
   "cell_type": "code",
   "execution_count": null,
   "metadata": {},
   "outputs": [],
   "source": []
  },
  {
   "cell_type": "code",
   "execution_count": 360,
   "metadata": {},
   "outputs": [],
   "source": [
    "x = torch.tensor([\n",
    "    [[1]] * 5,\n",
    "    [[1]] * 5,\n",
    "]).to(torch.float32)"
   ]
  },
  {
   "cell_type": "code",
   "execution_count": 361,
   "metadata": {},
   "outputs": [
    {
     "data": {
      "text/plain": [
       "torch.Size([2, 5, 1])"
      ]
     },
     "execution_count": 361,
     "metadata": {},
     "output_type": "execute_result"
    }
   ],
   "source": [
    "x.shape"
   ]
  },
  {
   "cell_type": "code",
   "execution_count": 362,
   "metadata": {},
   "outputs": [],
   "source": [
    "l1 = nn.Conv1d(1, 1, 3, 1)"
   ]
  },
  {
   "cell_type": "code",
   "execution_count": 363,
   "metadata": {},
   "outputs": [],
   "source": [
    "x = x.permute(0, 2, 1)\n",
    "x = l1(x)"
   ]
  },
  {
   "cell_type": "code",
   "execution_count": 364,
   "metadata": {},
   "outputs": [
    {
     "data": {
      "text/plain": [
       "torch.Size([2, 1, 3])"
      ]
     },
     "execution_count": 364,
     "metadata": {},
     "output_type": "execute_result"
    }
   ],
   "source": [
    "x.shape"
   ]
  },
  {
   "cell_type": "code",
   "execution_count": 365,
   "metadata": {},
   "outputs": [],
   "source": [
    "l1 = nn.MaxPool1d(2, 1)"
   ]
  },
  {
   "cell_type": "code",
   "execution_count": 366,
   "metadata": {},
   "outputs": [],
   "source": [
    "x = l1(x)"
   ]
  },
  {
   "cell_type": "code",
   "execution_count": 367,
   "metadata": {},
   "outputs": [
    {
     "data": {
      "text/plain": [
       "torch.Size([2, 1, 2])"
      ]
     },
     "execution_count": 367,
     "metadata": {},
     "output_type": "execute_result"
    }
   ],
   "source": [
    "x.shape"
   ]
  },
  {
   "cell_type": "code",
   "execution_count": 368,
   "metadata": {},
   "outputs": [],
   "source": [
    "x = x.permute(0,2,1)"
   ]
  },
  {
   "cell_type": "code",
   "execution_count": 369,
   "metadata": {},
   "outputs": [
    {
     "data": {
      "text/plain": [
       "torch.Size([2, 2, 1])"
      ]
     },
     "execution_count": 369,
     "metadata": {},
     "output_type": "execute_result"
    }
   ],
   "source": [
    "x.shape"
   ]
  },
  {
   "cell_type": "code",
   "execution_count": 370,
   "metadata": {},
   "outputs": [],
   "source": [
    "l3 = nn.LSTM(\n",
    "    input_size=1,\n",
    "    hidden_size=2,\n",
    "    num_layers=2,\n",
    "    batch_first=True,\n",
    "    dropout=0,\n",
    "    bidirectional=True,\n",
    ")"
   ]
  },
  {
   "cell_type": "code",
   "execution_count": 371,
   "metadata": {},
   "outputs": [],
   "source": [
    "x, (_, _) = l3(x)"
   ]
  },
  {
   "cell_type": "code",
   "execution_count": 372,
   "metadata": {},
   "outputs": [
    {
     "data": {
      "text/plain": [
       "torch.Size([2, 2, 4])"
      ]
     },
     "execution_count": 372,
     "metadata": {},
     "output_type": "execute_result"
    }
   ],
   "source": [
    "x.shape"
   ]
  },
  {
   "cell_type": "markdown",
   "metadata": {},
   "source": [
    "When bidirectional=True, output will contain a concatenation of the forward and reverse hidden states at each time step in the sequence."
   ]
  },
  {
   "cell_type": "code",
   "execution_count": 373,
   "metadata": {},
   "outputs": [
    {
     "data": {
      "text/plain": [
       "tensor([[[-0.2267, -0.1067,  0.1162,  0.1304],\n",
       "         [-0.3676, -0.2266,  0.0896,  0.1472]],\n",
       "\n",
       "        [[-0.2267, -0.1067,  0.1162,  0.1304],\n",
       "         [-0.3676, -0.2266,  0.0896,  0.1472]]], grad_fn=<TransposeBackward0>)"
      ]
     },
     "execution_count": 373,
     "metadata": {},
     "output_type": "execute_result"
    }
   ],
   "source": [
    "x "
   ]
  },
  {
   "cell_type": "code",
   "execution_count": 374,
   "metadata": {},
   "outputs": [],
   "source": [
    "# Merge forward and reverse by adding them\n",
    "x = x[:, :, :2] + x[:, :, 2:]"
   ]
  },
  {
   "cell_type": "code",
   "execution_count": 375,
   "metadata": {},
   "outputs": [
    {
     "data": {
      "text/plain": [
       "torch.Size([2, 2, 2])"
      ]
     },
     "execution_count": 375,
     "metadata": {},
     "output_type": "execute_result"
    }
   ],
   "source": [
    "x.shape"
   ]
  },
  {
   "cell_type": "code",
   "execution_count": 376,
   "metadata": {},
   "outputs": [],
   "source": [
    "l4  = nn.Upsample(scale_factor=2)"
   ]
  },
  {
   "cell_type": "code",
   "execution_count": 377,
   "metadata": {},
   "outputs": [],
   "source": [
    "# Upsample time dimension, not features\n",
    "x = x.permute(0,2,1)\n",
    "x = l4(x)\n",
    "x = x.permute(0,2,1)"
   ]
  },
  {
   "cell_type": "code",
   "execution_count": 378,
   "metadata": {},
   "outputs": [
    {
     "data": {
      "text/plain": [
       "torch.Size([2, 4, 2])"
      ]
     },
     "execution_count": 378,
     "metadata": {},
     "output_type": "execute_result"
    }
   ],
   "source": [
    "x.shape"
   ]
  },
  {
   "cell_type": "code",
   "execution_count": 387,
   "metadata": {},
   "outputs": [],
   "source": [
    "l5 = nn.ConvTranspose1d(\n",
    "    in_channels=2,\n",
    "    out_channels=1,\n",
    "    kernel_size=2,\n",
    "    stride=1,\n",
    "    padding=0,\n",
    ")"
   ]
  },
  {
   "cell_type": "code",
   "execution_count": 388,
   "metadata": {},
   "outputs": [],
   "source": [
    "y = x.permute(0,2,1)\n",
    "y = l5(y)\n",
    "y = y.permute(0,1,2)"
   ]
  },
  {
   "cell_type": "code",
   "execution_count": 389,
   "metadata": {},
   "outputs": [
    {
     "data": {
      "text/plain": [
       "torch.Size([2, 1, 5])"
      ]
     },
     "execution_count": 389,
     "metadata": {},
     "output_type": "execute_result"
    }
   ],
   "source": [
    "y.shape"
   ]
  },
  {
   "cell_type": "code",
   "execution_count": 390,
   "metadata": {},
   "outputs": [
    {
     "data": {
      "text/plain": [
       "tensor([[[-0.1899, -0.2700, -0.3802, -0.4597, -0.2733]],\n",
       "\n",
       "        [[-0.1899, -0.2700, -0.3802, -0.4597, -0.2733]]],\n",
       "       grad_fn=<PermuteBackward0>)"
      ]
     },
     "execution_count": 390,
     "metadata": {},
     "output_type": "execute_result"
    }
   ],
   "source": [
    "y"
   ]
  },
  {
   "cell_type": "code",
   "execution_count": null,
   "metadata": {},
   "outputs": [],
   "source": []
  },
  {
   "cell_type": "code",
   "execution_count": null,
   "metadata": {},
   "outputs": [],
   "source": []
  },
  {
   "cell_type": "code",
   "execution_count": null,
   "metadata": {},
   "outputs": [],
   "source": []
  },
  {
   "cell_type": "code",
   "execution_count": null,
   "metadata": {},
   "outputs": [],
   "source": []
  },
  {
   "cell_type": "code",
   "execution_count": 475,
   "metadata": {},
   "outputs": [],
   "source": [
    "class Network(nn.Module):\n",
    "    def __init__(self, cnn_kernel):\n",
    "        super().__init__()\n",
    "\n",
    "        self.cnn = nn.Conv1d(1, 1, 3, 1, 0)\n",
    "        self.pool = nn.MaxPool1d(2, 1)\n",
    "\n",
    "        self.lstm = nn.LSTM(\n",
    "            input_size=1,\n",
    "            hidden_size=2,\n",
    "            num_layers=2,\n",
    "            batch_first=True,\n",
    "            dropout=0,\n",
    "            bidirectional=True,\n",
    "        )\n",
    "\n",
    "        self.upsample = nn.Upsample(scale_factor=2)\n",
    "        self.trans_cnn = nn.ConvTranspose1d(\n",
    "            in_channels=2,\n",
    "            out_channels=1,\n",
    "            kernel_size=2,\n",
    "            stride=1,\n",
    "            padding=0,\n",
    "        )\n",
    "\n",
    "    def forward(self, x):\n",
    "        x = x.permute(0,2,1)\n",
    "        x = F.relu(self.cnn(x))\n",
    "        x = self.pool(x)\n",
    "        \n",
    "        x = x.permute(0,2,1)\n",
    "        x, (_, _) = self.lstm(x)\n",
    "        x = x[:, :, :2] + x[:, :, 2:]\n",
    "\n",
    "        x = x.permute(0,2,1)\n",
    "        x = self.upsample(x)\n",
    "        # x = x.permute(0,2,1)\n",
    "        \n",
    "        # x = x.permute(0,2,1)\n",
    "        print(x.shape)\n",
    "        x = self.trans_cnn(x)\n",
    "        x = x.permute(0,2,1)\n",
    "        return x"
   ]
  },
  {
   "cell_type": "code",
   "execution_count": 476,
   "metadata": {},
   "outputs": [],
   "source": [
    "x = torch.tensor([\n",
    "    [[1]] * 5,\n",
    "    [[1]] * 5,\n",
    "]).to(torch.float32)"
   ]
  },
  {
   "cell_type": "code",
   "execution_count": 477,
   "metadata": {},
   "outputs": [
    {
     "data": {
      "text/plain": [
       "torch.Size([2, 5, 1])"
      ]
     },
     "execution_count": 477,
     "metadata": {},
     "output_type": "execute_result"
    }
   ],
   "source": [
    "x.shape"
   ]
  },
  {
   "cell_type": "code",
   "execution_count": 478,
   "metadata": {},
   "outputs": [
    {
     "name": "stdout",
     "output_type": "stream",
     "text": [
      "torch.Size([2, 2, 4])\n"
     ]
    }
   ],
   "source": [
    "y = Network(cnn_kernel=3)(x)"
   ]
  },
  {
   "cell_type": "code",
   "execution_count": 479,
   "metadata": {},
   "outputs": [
    {
     "data": {
      "text/plain": [
       "torch.Size([2, 5, 1])"
      ]
     },
     "execution_count": 479,
     "metadata": {},
     "output_type": "execute_result"
    }
   ],
   "source": [
    "y.shape"
   ]
  },
  {
   "cell_type": "code",
   "execution_count": null,
   "metadata": {},
   "outputs": [],
   "source": []
  }
 ],
 "metadata": {
  "kernelspec": {
   "display_name": "Python 3.9.12 ('deep')",
   "language": "python",
   "name": "python3"
  },
  "language_info": {
   "codemirror_mode": {
    "name": "ipython",
    "version": 3
   },
   "file_extension": ".py",
   "mimetype": "text/x-python",
   "name": "python",
   "nbconvert_exporter": "python",
   "pygments_lexer": "ipython3",
   "version": "3.9.12"
  },
  "orig_nbformat": 4,
  "vscode": {
   "interpreter": {
    "hash": "6a2a3a3af096816301c7178121b9f28748e16a7be369f0d245d4beffb3ebaa12"
   }
  }
 },
 "nbformat": 4,
 "nbformat_minor": 2
}
