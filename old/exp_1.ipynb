{
 "cells": [
  {
   "cell_type": "code",
   "execution_count": 29,
   "metadata": {},
   "outputs": [],
   "source": [
    "import torch\n",
    "import numpy as np\n",
    "import torch.nn as nn\n",
    "import torch.nn.functional as F\n",
    "import torch.optim as optim\n",
    "import matplotlib.pyplot as plt\n",
    "from sklearn.cluster import KMeans\n",
    "from tqdm import tqdm"
   ]
  },
  {
   "cell_type": "code",
   "execution_count": 30,
   "metadata": {},
   "outputs": [],
   "source": [
    "X = np.array([\n",
    "    [1,1,1,1,1,1],\n",
    "    [1,1,1,1,1,1],\n",
    "    [1,1,1,1,1,1],\n",
    "    [2,2,2,2,2,2],\n",
    "    [2,2,2,2,2,2],\n",
    "    [2,2,2,2,2,2],\n",
    "    [3,3,3,3,3,3],\n",
    "    [3,3,3,3,3,3],\n",
    "    [3,3,3,3,3,3],\n",
    "])"
   ]
  },
  {
   "cell_type": "code",
   "execution_count": 31,
   "metadata": {},
   "outputs": [
    {
     "data": {
      "image/png": "[encoded data removed]",
      "text/plain": [
       "<Figure size 432x288 with 1 Axes>"
      ]
     },
     "metadata": {
      "needs_background": "light"
     },
     "output_type": "display_data"
    }
   ],
   "source": [
    "plt.plot(range(6), X[0], marker='x')\n",
    "plt.plot(range(6), X[1], marker='x')\n",
    "plt.plot(range(6), X[2], marker='x')\n",
    "plt.plot(range(6), X[3], marker='x')\n",
    "plt.plot(range(6), X[4], marker='x')\n",
    "plt.plot(range(6), X[5], marker='x')\n",
    "plt.plot(range(6), X[6], marker='x')\n",
    "plt.plot(range(6), X[7], marker='x')\n",
    "plt.plot(range(6), X[8], marker='x')\n",
    "plt.show()"
   ]
  },
  {
   "cell_type": "code",
   "execution_count": 32,
   "metadata": {},
   "outputs": [
    {
     "data": {
      "text/plain": [
       "torch.Size([9, 1, 6])"
      ]
     },
     "execution_count": 32,
     "metadata": {},
     "output_type": "execute_result"
    }
   ],
   "source": [
    "dataset = torch.tensor(X).unsqueeze(1).to(torch.float)\n",
    "dataset.shape"
   ]
  },
  {
   "cell_type": "code",
   "execution_count": 33,
   "metadata": {},
   "outputs": [],
   "source": [
    "class Encoder(nn.Module):\n",
    "    def __init__(self) -> None:\n",
    "        super().__init__()\n",
    "        self.cnn = nn.Conv1d(1,1,4,1)\n",
    "\n",
    "    def forward(self, x):\n",
    "        return F.relu(self.cnn(x))\n",
    "\n",
    "class Decoder(nn.Module):\n",
    "    def __init__(self) -> None:\n",
    "        super().__init__()\n",
    "        self.decoder = nn.ConvTranspose1d(1,1,4,1)\n",
    "    \n",
    "    def forward(self,x):\n",
    "        return F.relu(self.decoder(x))\n",
    "\n",
    "\n",
    "class TAE(nn.Module):\n",
    "    def __init__(self, encoder, decoder) -> None:\n",
    "        super().__init__()\n",
    "        self.encoder = encoder \n",
    "        self.decoder = decoder \n",
    "\n",
    "    def forward(self, x):\n",
    "        l = self.encoder(x)\n",
    "        x_prime = self.decoder(l)\n",
    "        return l, x_prime"
   ]
  },
  {
   "cell_type": "code",
   "execution_count": 34,
   "metadata": {},
   "outputs": [],
   "source": [
    "encoder = Encoder()\n",
    "decoder = Decoder()\n",
    "ae = TAE(encoder, decoder)"
   ]
  },
  {
   "cell_type": "code",
   "execution_count": 35,
   "metadata": {},
   "outputs": [],
   "source": [
    "optimizer = optim.SGD(ae.parameters(), lr=0.001)\n",
    "criterion = nn.MSELoss()"
   ]
  },
  {
   "cell_type": "code",
   "execution_count": 36,
   "metadata": {},
   "outputs": [
    {
     "name": "stdout",
     "output_type": "stream",
     "text": [
      "4.492537498474121\n",
      "1.3274277448654175\n",
      "0.2804378271102905\n",
      "0.17946331202983856\n",
      "0.11940926313400269\n",
      "0.0828687995672226\n",
      "0.06141960993409157\n",
      "0.04901630058884621\n",
      "0.04162704944610596\n",
      "0.03687453269958496\n",
      "0.033489830791950226\n",
      "0.030836844816803932\n",
      "0.028605138882994652\n",
      "0.026642045006155968\n",
      "0.024869505316019058\n",
      "0.023244766518473625\n",
      "0.02174227125942707\n",
      "0.020345564931631088\n",
      "0.01904279738664627\n",
      "0.017825357615947723\n",
      "0.016686005517840385\n",
      "0.015619046986103058\n",
      "0.014619209803640842\n",
      "0.013682142831385136\n",
      "0.012803779914975166\n",
      "0.011980460025370121\n",
      "0.011208704672753811\n",
      "0.010485386475920677\n",
      "0.009807542897760868\n",
      "0.009172438643872738\n",
      "0.008577377535402775\n",
      "0.008020002394914627\n",
      "0.007497978862375021\n",
      "0.007009133230894804\n",
      "0.006551441270858049\n",
      "0.006122959777712822\n",
      "0.005721929483115673\n",
      "0.005346612073481083\n",
      "0.004995417781174183\n",
      "0.004666835069656372\n",
      "0.004359480459243059\n",
      "0.004071991890668869\n",
      "0.003803105792030692\n",
      "0.003551692236214876\n",
      "0.003316612681373954\n",
      "0.0030968564096838236\n",
      "0.0028914313297718763\n",
      "0.0026994154322892427\n",
      "0.002519979840144515\n",
      "0.002352293347939849\n",
      "0.0021956206765025854\n",
      "0.0020492447074502707\n",
      "0.0019125002436339855\n",
      "0.0017847714480012655\n",
      "0.001665467512793839\n",
      "0.0015540565364062786\n",
      "0.0014500016113743186\n",
      "0.0013528504641726613\n",
      "0.0012621416244655848\n",
      "0.0011774426093325019\n",
      "0.0010983815882354975\n",
      "0.0010245793964713812\n",
      "0.0009556955192238092\n",
      "0.0008913931669667363\n",
      "0.0008313909638673067\n",
      "0.0007753856480121613\n",
      "0.0007231198833324015\n",
      "0.0006743597914464772\n",
      "0.0006288558361120522\n",
      "0.0005864090635441244\n",
      "0.0005468030576594174\n",
      "0.0005098533583804965\n",
      "0.0004753872053697705\n",
      "0.0004432381538208574\n",
      "0.00041324528865516186\n",
      "0.00038527377182617784\n",
      "0.0003591792774386704\n",
      "0.00033484643790870905\n",
      "0.0003121518820989877\n",
      "0.0002909965405706316\n",
      "0.00027126213535666466\n",
      "0.0002528581826481968\n",
      "0.00023570012126583606\n",
      "0.00021969889348838478\n",
      "0.00020477865473367274\n",
      "0.00019087021064478904\n",
      "0.00017790620040614158\n",
      "0.00016581137606408447\n",
      "0.00015453874948434532\n",
      "0.00014402820670511574\n",
      "0.00013423494237940758\n",
      "0.00012510626402217895\n",
      "0.0001165934736491181\n",
      "0.00010865532385651022\n",
      "0.00010125703556695953\n",
      "9.436527761863545e-05\n",
      "8.793643792159855e-05\n",
      "8.19491979200393e-05\n",
      "7.636586087755859e-05\n",
      "7.116374035831541e-05\n"
     ]
    }
   ],
   "source": [
    "ls = []\n",
    "\n",
    "for i in range(10000):\n",
    "    l, x_prime = ae(dataset)\n",
    "    loss = criterion(x_prime, dataset)\n",
    "\n",
    "    optimizer.zero_grad()\n",
    "    loss.backward()\n",
    "    optimizer.step()\n",
    "\n",
    "    # ls.append(l.detach().numpy())\n",
    "    \n",
    "    if i % 100 == 0:\n",
    "        print(loss.item())\n"
   ]
  },
  {
   "cell_type": "code",
   "execution_count": 37,
   "metadata": {},
   "outputs": [],
   "source": [
    "ls = [i.squeeze(1) for i in ls]"
   ]
  },
  {
   "cell_type": "code",
   "execution_count": 38,
   "metadata": {},
   "outputs": [],
   "source": [
    "# for i in range(25):\n",
    "#     for j in range(3):\n",
    "#         plt.plot(range(3), ls[i][0], c='r', alpha=i * 0.01)\n",
    "#         plt.plot(range(3), ls[i][1], c='r', alpha=i * 0.01)\n",
    "#         plt.plot(range(3), ls[i][2], c='r', alpha=i * 0.01)\n",
    "#         plt.plot(range(3), ls[i][3], c='g', alpha=i * 0.01)\n",
    "#         plt.plot(range(3), ls[i][4], c='g', alpha=i * 0.01)\n",
    "#         plt.plot(range(3), ls[i][5], c='g', alpha=i * 0.01)\n",
    "#         plt.plot(range(3), ls[i][6], c='b', alpha=i * 0.01)\n",
    "#         plt.plot(range(3), ls[i][7], c='b', alpha=i * 0.01)\n",
    "#         plt.plot(range(3), ls[i][8], c='b', alpha=i * 0.01)"
   ]
  },
  {
   "cell_type": "code",
   "execution_count": 39,
   "metadata": {},
   "outputs": [],
   "source": [
    "l, x_prime = ae(dataset)"
   ]
  },
  {
   "cell_type": "code",
   "execution_count": 40,
   "metadata": {},
   "outputs": [
    {
     "data": {
      "text/plain": [
       "tensor([[[1.6832, 1.6832, 1.6832]],\n",
       "\n",
       "        [[1.6832, 1.6832, 1.6832]],\n",
       "\n",
       "        [[1.6832, 1.6832, 1.6832]],\n",
       "\n",
       "        [[3.3418, 3.3418, 3.3418]],\n",
       "\n",
       "        [[3.3418, 3.3418, 3.3418]],\n",
       "\n",
       "        [[3.3418, 3.3418, 3.3418]],\n",
       "\n",
       "        [[5.0003, 5.0003, 5.0003]],\n",
       "\n",
       "        [[5.0003, 5.0003, 5.0003]],\n",
       "\n",
       "        [[5.0003, 5.0003, 5.0003]]], grad_fn=<ReluBackward0>)"
      ]
     },
     "execution_count": 40,
     "metadata": {},
     "output_type": "execute_result"
    }
   ],
   "source": [
    "l"
   ]
  },
  {
   "cell_type": "code",
   "execution_count": 41,
   "metadata": {},
   "outputs": [
    {
     "data": {
      "text/plain": [
       "array([2, 2, 2, 1, 1, 1, 0, 0, 0], dtype=int32)"
      ]
     },
     "execution_count": 41,
     "metadata": {},
     "output_type": "execute_result"
    }
   ],
   "source": [
    "cs = KMeans(n_clusters=3).fit_predict(l.detach().numpy().squeeze(1))\n",
    "cs"
   ]
  },
  {
   "cell_type": "code",
   "execution_count": 42,
   "metadata": {},
   "outputs": [],
   "source": [
    "centroids = []\n",
    "\n",
    "for i in range(3):\n",
    "    mask = cs == i\n",
    "    centroids.append(l[mask].mean(dim=2).reshape(1, -1))"
   ]
  },
  {
   "cell_type": "code",
   "execution_count": 43,
   "metadata": {},
   "outputs": [],
   "source": [
    "centroids = torch.cat(centroids).detach()"
   ]
  },
  {
   "cell_type": "code",
   "execution_count": 44,
   "metadata": {},
   "outputs": [
    {
     "data": {
      "text/plain": [
       "tensor([[5.0003, 5.0003, 5.0003],\n",
       "        [3.3418, 3.3418, 3.3418],\n",
       "        [1.6832, 1.6832, 1.6832]])"
      ]
     },
     "execution_count": 44,
     "metadata": {},
     "output_type": "execute_result"
    }
   ],
   "source": [
    "centroids"
   ]
  },
  {
   "cell_type": "code",
   "execution_count": 45,
   "metadata": {},
   "outputs": [
    {
     "name": "stderr",
     "output_type": "stream",
     "text": [
      "/var/folders/fg/zrq1rktd2lq738r5z3wc_wt00000gn/T/ipykernel_18809/1839959827.py:1: UserWarning: To copy construct from a tensor, it is recommended to use sourceTensor.clone().detach() or sourceTensor.clone().detach().requires_grad_(True), rather than torch.tensor(sourceTensor).\n",
      "  centroids = torch.tensor(centroids).unsqueeze(1).to(torch.float)\n"
     ]
    },
    {
     "data": {
      "text/plain": [
       "torch.Size([3, 1, 3])"
      ]
     },
     "execution_count": 45,
     "metadata": {},
     "output_type": "execute_result"
    }
   ],
   "source": [
    "centroids = torch.tensor(centroids).unsqueeze(1).to(torch.float)\n",
    "centroids.shape"
   ]
  },
  {
   "cell_type": "code",
   "execution_count": 46,
   "metadata": {},
   "outputs": [],
   "source": [
    "# for i in range(25):\n",
    "#     for j in range(3):\n",
    "#         plt.plot(range(3), ls[i][0], c='r', alpha=i * 0.01)\n",
    "#         plt.plot(range(3), ls[i][1], c='g', alpha=i * 0.01)\n",
    "#         plt.plot(range(3), ls[i][2], c='b', alpha=i * 0.01)\n",
    "\n",
    "# plt.plot(range(3), centroids[0], c='black')\n",
    "# plt.plot(range(3), centroids[1], c='black')\n",
    "# plt.plot(range(3), centroids[2], c='black')\n",
    "# plt.show()"
   ]
  },
  {
   "cell_type": "code",
   "execution_count": 47,
   "metadata": {},
   "outputs": [],
   "source": [
    "class ClusterLayer(nn.Module):\n",
    "    def __init__(self, encoder, centroids) -> None:\n",
    "        super().__init__()\n",
    "        self.encoder = encoder \n",
    "        self.centroids = nn.Parameter(centroids)\n",
    "    \n",
    "    def euclidean_distance(self, x, y):\n",
    "        dists = torch.zeros(9,3)\n",
    "\n",
    "        for i in range(9):\n",
    "            d = []\n",
    "            for j in range(3):\n",
    "                a = x[i].flatten()\n",
    "                b = y[j].flatten()\n",
    "                euc = ((a-b)**2).sum()\n",
    "                dists[i][j] = euc\n",
    "        return dists\n",
    "\n",
    "    def students_t_distribution_kernel(self, x, alpha=1):\n",
    "        num = torch.pow((1 + x / alpha), -(alpha + 1) / 2)\n",
    "        denom = num.sum(dim=1).reshape(-1, 1).repeat(1, 3)\n",
    "        return num / denom\n",
    "\n",
    "    def target_distribution(self, Q):\n",
    "        F = Q.sum(dim=0)\n",
    "        num = (Q ** 2) / F\n",
    "        denom = num.sum(dim=1).reshape(-1, 1).repeat(1, Q.shape[-1])\n",
    "        return num / denom\n",
    "\n",
    "    def forward(self, x):\n",
    "        l = self.encoder(x)\n",
    "        D = self.euclidean_distance(l, self.centroids)\n",
    "        Q = self.students_t_distribution_kernel(D)\n",
    "        P = self.target_distribution(Q)\n",
    "        return l, torch.log(Q), torch.log(P)"
   ]
  },
  {
   "cell_type": "code",
   "execution_count": 48,
   "metadata": {},
   "outputs": [],
   "source": [
    "cl = ClusterLayer(encoder=encoder, centroids=centroids)"
   ]
  },
  {
   "cell_type": "code",
   "execution_count": 49,
   "metadata": {},
   "outputs": [],
   "source": [
    "optimizer = optim.SGD(cl.parameters(), lr=0.001)\n",
    "mse = nn.MSELoss()\n",
    "kl = nn.KLDivLoss(reduction='batchmean', log_target=True)"
   ]
  },
  {
   "cell_type": "code",
   "execution_count": 50,
   "metadata": {},
   "outputs": [
    {
     "data": {
      "image/png": "[encoded data removed]",
      "text/plain": [
       "<Figure size 432x288 with 1 Axes>"
      ]
     },
     "metadata": {
      "needs_background": "light"
     },
     "output_type": "display_data"
    },
    {
     "data": {
      "image/png": "[encoded data removed]",
      "text/plain": [
       "<Figure size 432x288 with 1 Axes>"
      ]
     },
     "metadata": {
      "needs_background": "light"
     },
     "output_type": "display_data"
    },
    {
     "data": {
      "image/png": "[encoded data removed]",
      "text/plain": [
       "<Figure size 432x288 with 1 Axes>"
      ]
     },
     "metadata": {
      "needs_background": "light"
     },
     "output_type": "display_data"
    },
    {
     "data": {
      "image/png": "[encoded data removed]",
      "text/plain": [
       "<Figure size 432x288 with 1 Axes>"
      ]
     },
     "metadata": {
      "needs_background": "light"
     },
     "output_type": "display_data"
    },
    {
     "data": {
      "image/png": "[encoded data removed]",
      "text/plain": [
       "<Figure size 432x288 with 1 Axes>"
      ]
     },
     "metadata": {
      "needs_background": "light"
     },
     "output_type": "display_data"
    },
    {
     "data": {
      "image/png": "[encoded data removed]",
      "text/plain": [
       "<Figure size 432x288 with 1 Axes>"
      ]
     },
     "metadata": {
      "needs_background": "light"
     },
     "output_type": "display_data"
    },
    {
     "data": {
      "image/png": "[encoded data removed]",
      "text/plain": [
       "<Figure size 432x288 with 1 Axes>"
      ]
     },
     "metadata": {
      "needs_background": "light"
     },
     "output_type": "display_data"
    },
    {
     "data": {
      "image/png": "[encoded data removed]",
      "text/plain": [
       "<Figure size 432x288 with 1 Axes>"
      ]
     },
     "metadata": {
      "needs_background": "light"
     },
     "output_type": "display_data"
    },
    {
     "data": {
      "image/png": "[encoded data removed]",
      "text/plain": [
       "<Figure size 432x288 with 1 Axes>"
      ]
     },
     "metadata": {
      "needs_background": "light"
     },
     "output_type": "display_data"
    },
    {
     "data": {
      "image/png": "[encoded data removed]",
      "text/plain": [
       "<Figure size 432x288 with 1 Axes>"
      ]
     },
     "metadata": {
      "needs_background": "light"
     },
     "output_type": "display_data"
    },
    {
     "data": {
      "image/png": "[encoded data removed]",
      "text/plain": [
       "<Figure size 432x288 with 1 Axes>"
      ]
     },
     "metadata": {
      "needs_background": "light"
     },
     "output_type": "display_data"
    },
    {
     "ename": "KeyboardInterrupt",
     "evalue": "",
     "output_type": "error",
     "traceback": [
      "\u001b[0;31m---------------------------------------------------------------------------\u001b[0m",
      "\u001b[0;31mKeyboardInterrupt\u001b[0m                         Traceback (most recent call last)",
      "\u001b[1;32m/Users/tristan/Documents/CS/Research/DTC/debug copy.ipynb Cell 22\u001b[0m in \u001b[0;36m<cell line: 6>\u001b[0;34m()\u001b[0m\n\u001b[1;32m      <a href='vscode-notebook-cell:/Users/tristan/Documents/CS/Research/DTC/debug%20copy.ipynb#X30sZmlsZQ%3D%3D?line=3'>4</a>\u001b[0m cents \u001b[39m=\u001b[39m []\n\u001b[1;32m      <a href='vscode-notebook-cell:/Users/tristan/Documents/CS/Research/DTC/debug%20copy.ipynb#X30sZmlsZQ%3D%3D?line=5'>6</a>\u001b[0m \u001b[39mfor\u001b[39;00m i \u001b[39min\u001b[39;00m \u001b[39mrange\u001b[39m(\u001b[39m100000\u001b[39m):\n\u001b[0;32m----> <a href='vscode-notebook-cell:/Users/tristan/Documents/CS/Research/DTC/debug%20copy.ipynb#X30sZmlsZQ%3D%3D?line=6'>7</a>\u001b[0m     l, P, Q \u001b[39m=\u001b[39m cl(dataset)\n\u001b[1;32m      <a href='vscode-notebook-cell:/Users/tristan/Documents/CS/Research/DTC/debug%20copy.ipynb#X30sZmlsZQ%3D%3D?line=7'>8</a>\u001b[0m     x_prime \u001b[39m=\u001b[39m decoder(l)\n\u001b[1;32m     <a href='vscode-notebook-cell:/Users/tristan/Documents/CS/Research/DTC/debug%20copy.ipynb#X30sZmlsZQ%3D%3D?line=9'>10</a>\u001b[0m     mse_loss \u001b[39m=\u001b[39m mse(dataset, x_prime)\n",
      "File \u001b[0;32m~/miniconda3/envs/deep/lib/python3.9/site-packages/torch/nn/modules/module.py:1130\u001b[0m, in \u001b[0;36mModule._call_impl\u001b[0;34m(self, *input, **kwargs)\u001b[0m\n\u001b[1;32m   1126\u001b[0m \u001b[39m# If we don't have any hooks, we want to skip the rest of the logic in\u001b[39;00m\n\u001b[1;32m   1127\u001b[0m \u001b[39m# this function, and just call forward.\u001b[39;00m\n\u001b[1;32m   1128\u001b[0m \u001b[39mif\u001b[39;00m \u001b[39mnot\u001b[39;00m (\u001b[39mself\u001b[39m\u001b[39m.\u001b[39m_backward_hooks \u001b[39mor\u001b[39;00m \u001b[39mself\u001b[39m\u001b[39m.\u001b[39m_forward_hooks \u001b[39mor\u001b[39;00m \u001b[39mself\u001b[39m\u001b[39m.\u001b[39m_forward_pre_hooks \u001b[39mor\u001b[39;00m _global_backward_hooks\n\u001b[1;32m   1129\u001b[0m         \u001b[39mor\u001b[39;00m _global_forward_hooks \u001b[39mor\u001b[39;00m _global_forward_pre_hooks):\n\u001b[0;32m-> 1130\u001b[0m     \u001b[39mreturn\u001b[39;00m forward_call(\u001b[39m*\u001b[39;49m\u001b[39minput\u001b[39;49m, \u001b[39m*\u001b[39;49m\u001b[39m*\u001b[39;49mkwargs)\n\u001b[1;32m   1131\u001b[0m \u001b[39m# Do not call functions when jit is used\u001b[39;00m\n\u001b[1;32m   1132\u001b[0m full_backward_hooks, non_full_backward_hooks \u001b[39m=\u001b[39m [], []\n",
      "\u001b[1;32m/Users/tristan/Documents/CS/Research/DTC/debug copy.ipynb Cell 22\u001b[0m in \u001b[0;36mClusterLayer.forward\u001b[0;34m(self, x)\u001b[0m\n\u001b[1;32m     <a href='vscode-notebook-cell:/Users/tristan/Documents/CS/Research/DTC/debug%20copy.ipynb#X30sZmlsZQ%3D%3D?line=29'>30</a>\u001b[0m \u001b[39mdef\u001b[39;00m \u001b[39mforward\u001b[39m(\u001b[39mself\u001b[39m, x):\n\u001b[1;32m     <a href='vscode-notebook-cell:/Users/tristan/Documents/CS/Research/DTC/debug%20copy.ipynb#X30sZmlsZQ%3D%3D?line=30'>31</a>\u001b[0m     l \u001b[39m=\u001b[39m \u001b[39mself\u001b[39m\u001b[39m.\u001b[39mencoder(x)\n\u001b[0;32m---> <a href='vscode-notebook-cell:/Users/tristan/Documents/CS/Research/DTC/debug%20copy.ipynb#X30sZmlsZQ%3D%3D?line=31'>32</a>\u001b[0m     D \u001b[39m=\u001b[39m \u001b[39mself\u001b[39;49m\u001b[39m.\u001b[39;49meuclidean_distance(l, \u001b[39mself\u001b[39;49m\u001b[39m.\u001b[39;49mcentroids)\n\u001b[1;32m     <a href='vscode-notebook-cell:/Users/tristan/Documents/CS/Research/DTC/debug%20copy.ipynb#X30sZmlsZQ%3D%3D?line=32'>33</a>\u001b[0m     Q \u001b[39m=\u001b[39m \u001b[39mself\u001b[39m\u001b[39m.\u001b[39mstudents_t_distribution_kernel(D)\n\u001b[1;32m     <a href='vscode-notebook-cell:/Users/tristan/Documents/CS/Research/DTC/debug%20copy.ipynb#X30sZmlsZQ%3D%3D?line=33'>34</a>\u001b[0m     P \u001b[39m=\u001b[39m \u001b[39mself\u001b[39m\u001b[39m.\u001b[39mtarget_distribution(Q)\n",
      "\u001b[1;32m/Users/tristan/Documents/CS/Research/DTC/debug copy.ipynb Cell 22\u001b[0m in \u001b[0;36mClusterLayer.euclidean_distance\u001b[0;34m(self, x, y)\u001b[0m\n\u001b[1;32m     <a href='vscode-notebook-cell:/Users/tristan/Documents/CS/Research/DTC/debug%20copy.ipynb#X30sZmlsZQ%3D%3D?line=12'>13</a>\u001b[0m         a \u001b[39m=\u001b[39m x[i]\u001b[39m.\u001b[39mflatten()\n\u001b[1;32m     <a href='vscode-notebook-cell:/Users/tristan/Documents/CS/Research/DTC/debug%20copy.ipynb#X30sZmlsZQ%3D%3D?line=13'>14</a>\u001b[0m         b \u001b[39m=\u001b[39m y[j]\u001b[39m.\u001b[39mflatten()\n\u001b[0;32m---> <a href='vscode-notebook-cell:/Users/tristan/Documents/CS/Research/DTC/debug%20copy.ipynb#X30sZmlsZQ%3D%3D?line=14'>15</a>\u001b[0m         euc \u001b[39m=\u001b[39m ((a\u001b[39m-\u001b[39;49mb)\u001b[39m*\u001b[39;49m\u001b[39m*\u001b[39;49m\u001b[39m2\u001b[39;49m)\u001b[39m.\u001b[39;49msum()\n\u001b[1;32m     <a href='vscode-notebook-cell:/Users/tristan/Documents/CS/Research/DTC/debug%20copy.ipynb#X30sZmlsZQ%3D%3D?line=15'>16</a>\u001b[0m         dists[i][j] \u001b[39m=\u001b[39m euc\n\u001b[1;32m     <a href='vscode-notebook-cell:/Users/tristan/Documents/CS/Research/DTC/debug%20copy.ipynb#X30sZmlsZQ%3D%3D?line=16'>17</a>\u001b[0m \u001b[39mreturn\u001b[39;00m dists\n",
      "\u001b[0;31mKeyboardInterrupt\u001b[0m: "
     ]
    }
   ],
   "source": [
    "mse_data = []\n",
    "kl_data = []\n",
    "ls = []\n",
    "cents = []\n",
    "\n",
    "for i in range(100000):\n",
    "    l, P, Q = cl(dataset)\n",
    "    x_prime = decoder(l)\n",
    "\n",
    "    mse_loss = mse(dataset, x_prime)\n",
    "    kl_loss = kl(Q, P)\n",
    "\n",
    "    dtc_loss = mse_loss + kl_loss\n",
    "\n",
    "    optimizer.zero_grad()\n",
    "    dtc_loss.backward()\n",
    "    optimizer.step()\n",
    "\n",
    "    mse_data.append(mse_loss.item())\n",
    "    kl_data.append(kl_loss.item())\n",
    "\n",
    "    if i % 100 == 0:\n",
    "        ls.append(l)\n",
    "        cents.append(cl.centroids)\n",
    "\n",
    "    if i % 1000 == 0:\n",
    "        if i  == 0:\n",
    "            continue\n",
    "        ls = [i.squeeze(1).detach() for i in ls]\n",
    "        cents = [i.squeeze(1).detach() for i in cents]\n",
    "\n",
    "        for i in range(len(ls)):\n",
    "            for j in range(3):\n",
    "                plt.plot(range(3), ls[i][0], c='r')#, alpha=i * 0.01)\n",
    "                plt.plot(range(3), ls[i][1], c='r')#, alpha=i * 0.01)\n",
    "                plt.plot(range(3), ls[i][2], c='r')#, alpha=i * 0.01)\n",
    "                plt.plot(range(3), ls[i][3], c='g')#, alpha=i * 0.01)\n",
    "                plt.plot(range(3), ls[i][4], c='g')#, alpha=i * 0.01)\n",
    "                plt.plot(range(3), ls[i][5], c='g')#, alpha=i * 0.01)\n",
    "                plt.plot(range(3), ls[i][6], c='b')#, alpha=i * 0.01)\n",
    "                plt.plot(range(3), ls[i][7], c='b')#, alpha=i * 0.01)\n",
    "                plt.plot(range(3), ls[i][8], c='b')#, alpha=i * 0.01)\n",
    "                plt.plot(range(3), cents[i][0], c='black')#, alpha=i * 0.01)\n",
    "                plt.plot(range(3), cents[i][1], c='black')#, alpha=i * 0.01)\n",
    "                plt.plot(range(3), cents[i][2], c='black')#, alpha=i * 0.01)\n",
    "\n",
    "        plt.show()\n",
    "\n",
    "        ls = []\n",
    "        cents = []"
   ]
  },
  {
   "cell_type": "code",
   "execution_count": null,
   "metadata": {},
   "outputs": [],
   "source": []
  },
  {
   "cell_type": "code",
   "execution_count": null,
   "metadata": {},
   "outputs": [],
   "source": []
  },
  {
   "cell_type": "code",
   "execution_count": null,
   "metadata": {},
   "outputs": [],
   "source": []
  },
  {
   "cell_type": "code",
   "execution_count": null,
   "metadata": {},
   "outputs": [],
   "source": []
  },
  {
   "cell_type": "code",
   "execution_count": null,
   "metadata": {},
   "outputs": [],
   "source": []
  },
  {
   "cell_type": "code",
   "execution_count": null,
   "metadata": {},
   "outputs": [],
   "source": []
  },
  {
   "cell_type": "code",
   "execution_count": null,
   "metadata": {},
   "outputs": [],
   "source": []
  },
  {
   "cell_type": "code",
   "execution_count": null,
   "metadata": {},
   "outputs": [],
   "source": []
  },
  {
   "cell_type": "code",
   "execution_count": null,
   "metadata": {},
   "outputs": [],
   "source": []
  },
  {
   "cell_type": "code",
   "execution_count": null,
   "metadata": {},
   "outputs": [],
   "source": []
  },
  {
   "cell_type": "code",
   "execution_count": null,
   "metadata": {},
   "outputs": [],
   "source": [
    "mse_data = []\n",
    "kl_data = []\n",
    "ls = []\n",
    "cents = []\n",
    "\n",
    "for i in range(100000):\n",
    "    l, P, Q = cl(dataset)\n",
    "    x_prime = decoder(l)\n",
    "\n",
    "    mse_loss = mse(dataset, x_prime)\n",
    "    kl_loss = kl(Q, P)\n",
    "\n",
    "    dtc_loss = mse_loss +  kl_loss\n",
    "\n",
    "    optimizer.zero_grad()\n",
    "    dtc_loss.backward()\n",
    "    optimizer.step()\n",
    "\n",
    "    mse_data.append(mse_loss.item())\n",
    "    kl_data.append(kl_loss.item())\n",
    "\n",
    "    if i % 100 == 0:\n",
    "        ls.append(l)\n",
    "        cents.append(cl.centroids)\n",
    "\n",
    "    if i % 1000 == 0:\n",
    "        if i  == 0:\n",
    "            continue\n",
    "        ls = [i.squeeze(1).detach() for i in ls]\n",
    "        cents = [i.squeeze(1).detach() for i in cents]\n",
    "\n",
    "        for i in range(len(ls)):\n",
    "            for j in range(3):\n",
    "                plt.plot(range(3), ls[i][0], c='r')#, alpha=i * 0.01)\n",
    "                plt.plot(range(3), ls[i][1], c='r')#, alpha=i * 0.01)\n",
    "                plt.plot(range(3), ls[i][2], c='r')#, alpha=i * 0.01)\n",
    "                plt.plot(range(3), ls[i][3], c='g')#, alpha=i * 0.01)\n",
    "                plt.plot(range(3), ls[i][4], c='g')#, alpha=i * 0.01)\n",
    "                plt.plot(range(3), ls[i][5], c='g')#, alpha=i * 0.01)\n",
    "                plt.plot(range(3), ls[i][6], c='b')#, alpha=i * 0.01)\n",
    "                plt.plot(range(3), ls[i][7], c='b')#, alpha=i * 0.01)\n",
    "                plt.plot(range(3), ls[i][8], c='b')#, alpha=i * 0.01)\n",
    "                plt.plot(range(3), cents[i][0], c='black')#, alpha=i * 0.01)\n",
    "                plt.plot(range(3), cents[i][1], c='black')#, alpha=i * 0.01)\n",
    "                plt.plot(range(3), cents[i][2], c='black')#, alpha=i * 0.01)\n",
    "\n",
    "        plt.show()\n",
    "\n",
    "        ls = []\n",
    "        cents = []\n"
   ]
  },
  {
   "cell_type": "markdown",
   "metadata": {},
   "source": [
    "* From this experiment it seems we should add a term to repel the centroids from one another\n",
    "* From output 22 we can see that is is kind of even out the probability assignments accross the clusters. This is what we saw in last experiment.\\\n",
    "* The AE representations stabilise much faster than the KL loss moves clusters\n",
    "    * Thus we must stabilise the AE first\n",
    "* Cluster centroids commonly converge\n",
    "* After getting slightly perturbed cluster centres move to the centre between the AE latents"
   ]
  },
  {
   "cell_type": "code",
   "execution_count": null,
   "metadata": {},
   "outputs": [],
   "source": []
  },
  {
   "cell_type": "code",
   "execution_count": null,
   "metadata": {},
   "outputs": [],
   "source": []
  },
  {
   "cell_type": "code",
   "execution_count": null,
   "metadata": {},
   "outputs": [],
   "source": []
  },
  {
   "cell_type": "code",
   "execution_count": null,
   "metadata": {},
   "outputs": [],
   "source": []
  },
  {
   "cell_type": "code",
   "execution_count": null,
   "metadata": {},
   "outputs": [],
   "source": []
  },
  {
   "cell_type": "code",
   "execution_count": null,
   "metadata": {},
   "outputs": [],
   "source": []
  },
  {
   "cell_type": "code",
   "execution_count": null,
   "metadata": {},
   "outputs": [],
   "source": [
    "plt.plot(range(len(mse_data)), mse_data)\n",
    "plt.show()"
   ]
  },
  {
   "cell_type": "code",
   "execution_count": null,
   "metadata": {},
   "outputs": [],
   "source": [
    "plt.plot(range(len(kl_data)), kl_data)\n",
    "plt.show()"
   ]
  },
  {
   "cell_type": "code",
   "execution_count": null,
   "metadata": {},
   "outputs": [],
   "source": [
    "ls = [i.squeeze(1).detach() for i in ls]\n",
    "cents = [i.squeeze(1).detach() for i in cents]"
   ]
  },
  {
   "cell_type": "code",
   "execution_count": null,
   "metadata": {},
   "outputs": [],
   "source": [
    "for i in range(len(ls)):\n",
    "    for j in range(3):\n",
    "        plt.plot(range(3), ls[i][0], c='r')#, alpha=i * 0.01)\n",
    "        plt.plot(range(3), ls[i][1], c='g')#, alpha=i * 0.01)\n",
    "        plt.plot(range(3), ls[i][2], c='b')#, alpha=i * 0.01)\n",
    "        plt.plot(range(3), cents[i][0], c='black')#, alpha=i * 0.01)\n",
    "        plt.plot(range(3), cents[i][1], c='black')#, alpha=i * 0.01)\n",
    "        plt.plot(range(3), cents[i][2], c='black')#, alpha=i * 0.01)"
   ]
  },
  {
   "cell_type": "code",
   "execution_count": null,
   "metadata": {},
   "outputs": [],
   "source": [
    "ls"
   ]
  },
  {
   "cell_type": "code",
   "execution_count": null,
   "metadata": {},
   "outputs": [],
   "source": []
  }
 ],
 "metadata": {
  "kernelspec": {
   "display_name": "Python 3.9.12 ('deep')",
   "language": "python",
   "name": "python3"
  },
  "language_info": {
   "codemirror_mode": {
    "name": "ipython",
    "version": 3
   },
   "file_extension": ".py",
   "mimetype": "text/x-python",
   "name": "python",
   "nbconvert_exporter": "python",
   "pygments_lexer": "ipython3",
   "version": "3.9.12"
  },
  "orig_nbformat": 4,
  "vscode": {
   "interpreter": {
    "hash": "6a2a3a3af096816301c7178121b9f28748e16a7be369f0d245d4beffb3ebaa12"
   }
  }
 },
 "nbformat": 4,
 "nbformat_minor": 2
}
