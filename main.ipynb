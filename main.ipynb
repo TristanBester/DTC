{
 "cells": [
  {
   "cell_type": "code",
   "execution_count": 1,
   "metadata": {},
   "outputs": [
    {
     "name": "stderr",
     "output_type": "stream",
     "text": [
      "/Users/tristan/miniconda3/envs/deep/lib/python3.9/site-packages/tqdm/auto.py:22: TqdmWarning: IProgress not found. Please update jupyter and ipywidgets. See https://ipywidgets.readthedocs.io/en/stable/user_install.html\n",
      "  from .autonotebook import tqdm as notebook_tqdm\n"
     ]
    }
   ],
   "source": [
    "import wandb\n",
    "from tqdm import tqdm\n",
    "import torch\n",
    "from torch.utils.data import DataLoader\n",
    "import torch.optim as optim\n",
    "import torch.nn as nn\n",
    "\n",
    "from src.datasets.polynomial import PolynomialDataset\n",
    "from src.models.TAE import TAE\n"
   ]
  },
  {
   "cell_type": "code",
   "execution_count": 2,
   "metadata": {},
   "outputs": [
    {
     "name": "stderr",
     "output_type": "stream",
     "text": [
      "Failed to detect the name of this notebook, you can set it manually with the WANDB_NOTEBOOK_NAME environment variable to enable code saving.\n",
      "\u001b[34m\u001b[1mwandb\u001b[0m: Currently logged in as: \u001b[33mtristanbester1\u001b[0m. Use \u001b[1m`wandb login --relogin`\u001b[0m to force relogin\n"
     ]
    },
    {
     "data": {
      "text/html": [
       "Tracking run with wandb version 0.13.1"
      ],
      "text/plain": [
       "<IPython.core.display.HTML object>"
      ]
     },
     "metadata": {},
     "output_type": "display_data"
    },
    {
     "data": {
      "text/html": [
       "Run data is saved locally in <code>/Users/tristan/Documents/CS/Research/DTC/wandb/run-20220811_210720-31171n3g</code>"
      ],
      "text/plain": [
       "<IPython.core.display.HTML object>"
      ]
     },
     "metadata": {},
     "output_type": "display_data"
    },
    {
     "data": {
      "text/html": [
       "Syncing run <strong><a href=\"https://wandb.ai/tristanbester1/DTC/runs/31171n3g\" target=\"_blank\">test</a></strong> to <a href=\"https://wandb.ai/tristanbester1/DTC\" target=\"_blank\">Weights & Biases</a> (<a href=\"https://wandb.me/run\" target=\"_blank\">docs</a>)<br/>"
      ],
      "text/plain": [
       "<IPython.core.display.HTML object>"
      ]
     },
     "metadata": {},
     "output_type": "display_data"
    }
   ],
   "source": [
    "run = wandb.init(project='DTC', name='test')"
   ]
  },
  {
   "cell_type": "code",
   "execution_count": 3,
   "metadata": {},
   "outputs": [],
   "source": [
    "dataset = PolynomialDataset(\n",
    "    run, \n",
    "    \"tristanbester1/DTC/polynomial_dataset_X:v0\",\n",
    "    \"tristanbester1/DTC/polynomial_dataset_Y:v0\",\n",
    ")"
   ]
  },
  {
   "cell_type": "code",
   "execution_count": null,
   "metadata": {},
   "outputs": [],
   "source": []
  },
  {
   "cell_type": "code",
   "execution_count": 21,
   "metadata": {},
   "outputs": [],
   "source": [
    "def incremental_average(ave, n_val, n):\n",
    "    if ave is None:\n",
    "        return n_val\n",
    "\n",
    "    ave = ave + (n_val - ave)/float(n)\n",
    "    return ave"
   ]
  },
  {
   "cell_type": "code",
   "execution_count": 30,
   "metadata": {},
   "outputs": [],
   "source": [
    "def train_one_epoch(model, optimizer, criterion, data_loader, device, scheduler):\n",
    "    model.train()\n",
    "\n",
    "    ave_loss = None\n",
    "    pbar = tqdm(data_loader, leave=True, total=len(data_loader))\n",
    "\n",
    "    for n, (x, _) in enumerate(pbar):\n",
    "        x = x.to(device)\n",
    "\n",
    "        optimizer.zero_grad()\n",
    "        outputs = model(x)\n",
    "        loss = criterion(outputs, x)\n",
    "        loss.backward()\n",
    "        optimizer.step()\n",
    "\n",
    "        ave_loss = incremental_average(ave_loss, loss.item(), (n+1) * data_loader.batch_size)\n",
    "        pbar.set_description(f'loss - {ave_loss}')\n",
    "\n",
    "    scheduler.step(ave_loss)\n",
    "    return ave_loss"
   ]
  },
  {
   "cell_type": "code",
   "execution_count": 31,
   "metadata": {},
   "outputs": [],
   "source": [
    "def validate(model, criterion, data_loader, device):\n",
    "    model.eval()\n",
    "\n",
    "    ave_loss = 0\n",
    "    pbar = tqdm(data_loader, leave=True, total=len(data_loader))\n",
    "\n",
    "    with torch.no_grad():\n",
    "        for n, (x, _) in enumerate(pbar):\n",
    "            x = x.to(device)\n",
    "\n",
    "            outputs = model(x)\n",
    "            loss = criterion(outputs, x)\n",
    "            \n",
    "            ave_loss += loss.item()\n",
    "    return ave_loss / len(data_loader)"
   ]
  },
  {
   "cell_type": "code",
   "execution_count": 32,
   "metadata": {},
   "outputs": [],
   "source": [
    "data_loader =  DataLoader(dataset=dataset, batch_size=1) "
   ]
  },
  {
   "cell_type": "code",
   "execution_count": 33,
   "metadata": {},
   "outputs": [],
   "source": [
    "device = torch.device('cpu')"
   ]
  },
  {
   "cell_type": "code",
   "execution_count": 34,
   "metadata": {},
   "outputs": [],
   "source": [
    "model = TAE(\n",
    "    input_dim=1,\n",
    "    seq_len=100,\n",
    "    cnn_kernel=10,\n",
    "    cnn_stride=3,\n",
    "    mp_kernel=10,\n",
    "    mp_stride=3,\n",
    "    lstm_hidden_dim=8,\n",
    "    upsample_scale=2,\n",
    "    deconv_kernel=10,\n",
    "    deconv_stride=6,\n",
    ")"
   ]
  },
  {
   "cell_type": "code",
   "execution_count": 35,
   "metadata": {},
   "outputs": [],
   "source": [
    "optimizer = optim.Adam(model.parameters(), lr=0.0001)\n",
    "scheduler = optim.lr_scheduler.ReduceLROnPlateau(optimizer,\n",
    "                                                factor=0.1,\n",
    "                                                patience=10,\n",
    "                                                threshold=0.01,\n",
    "                                                verbose=True)"
   ]
  },
  {
   "cell_type": "code",
   "execution_count": 36,
   "metadata": {},
   "outputs": [],
   "source": [
    "criterion = nn.MSELoss()"
   ]
  },
  {
   "cell_type": "code",
   "execution_count": 37,
   "metadata": {},
   "outputs": [
    {
     "name": "stderr",
     "output_type": "stream",
     "text": [
      "loss - 0.5560173696279527: 100%|██████████| 300/300 [00:01<00:00, 189.67it/s]\n"
     ]
    },
    {
     "data": {
      "text/plain": [
       "0.5560173696279527"
      ]
     },
     "execution_count": 37,
     "metadata": {},
     "output_type": "execute_result"
    }
   ],
   "source": [
    "train_one_epoch(\n",
    "    model=model,\n",
    "    optimizer=optimizer,\n",
    "    criterion=criterion,\n",
    "    data_loader=data_loader,\n",
    "    device=device,\n",
    "    scheduler=scheduler    \n",
    ")"
   ]
  },
  {
   "cell_type": "code",
   "execution_count": 26,
   "metadata": {},
   "outputs": [
    {
     "name": "stderr",
     "output_type": "stream",
     "text": [
      "100%|██████████| 300/300 [00:00<00:00, 1538.67it/s]\n"
     ]
    },
    {
     "data": {
      "text/plain": [
       "0.7073707709709803"
      ]
     },
     "execution_count": 26,
     "metadata": {},
     "output_type": "execute_result"
    }
   ],
   "source": [
    "validate(model=model, criterion=criterion, data_loader=data_loader, device=device)"
   ]
  },
  {
   "cell_type": "code",
   "execution_count": null,
   "metadata": {},
   "outputs": [],
   "source": []
  },
  {
   "cell_type": "code",
   "execution_count": 11,
   "metadata": {},
   "outputs": [
    {
     "ename": "NameError",
     "evalue": "name 'LibriSpeechDataset' is not defined",
     "output_type": "error",
     "traceback": [
      "\u001b[0;31m---------------------------------------------------------------------------\u001b[0m",
      "\u001b[0;31mNameError\u001b[0m                                 Traceback (most recent call last)",
      "\u001b[1;32m/Users/tristan/Documents/CS/Research/DTC/main.ipynb Cell 15\u001b[0m in \u001b[0;36m<cell line: 1>\u001b[0;34m()\u001b[0m\n\u001b[0;32m----> <a href='vscode-notebook-cell:/Users/tristan/Documents/CS/Research/DTC/main.ipynb#W6sZmlsZQ%3D%3D?line=0'>1</a>\u001b[0m train_dataset \u001b[39m=\u001b[39m LibriSpeechDataset(csv_path\u001b[39m=\u001b[39m\u001b[39m'\u001b[39m\u001b[39mtrain-clean-360-1.csv\u001b[39m\u001b[39m'\u001b[39m)\n\u001b[1;32m      <a href='vscode-notebook-cell:/Users/tristan/Documents/CS/Research/DTC/main.ipynb#W6sZmlsZQ%3D%3D?line=1'>2</a>\u001b[0m train_loader \u001b[39m=\u001b[39m DataLoader(train_dataset, batch_size\u001b[39m=\u001b[39margs\u001b[39m.\u001b[39mtrain_batch_size,\n\u001b[1;32m      <a href='vscode-notebook-cell:/Users/tristan/Documents/CS/Research/DTC/main.ipynb#W6sZmlsZQ%3D%3D?line=2'>3</a>\u001b[0m                             collate_fn\u001b[39m=\u001b[39mcollate_fn)\n\u001b[1;32m      <a href='vscode-notebook-cell:/Users/tristan/Documents/CS/Research/DTC/main.ipynb#W6sZmlsZQ%3D%3D?line=4'>5</a>\u001b[0m val_dataset \u001b[39m=\u001b[39m LibriSpeechDataset(csv_path\u001b[39m=\u001b[39m\u001b[39m'\u001b[39m\u001b[39mtest-clean.csv\u001b[39m\u001b[39m'\u001b[39m)\n",
      "\u001b[0;31mNameError\u001b[0m: name 'LibriSpeechDataset' is not defined"
     ]
    }
   ],
   "source": [
    "train_dataset = LibriSpeechDataset(csv_path='train-clean-360-1.csv')\n",
    "train_loader = DataLoader(train_dataset, batch_size=args.train_batch_size,\n",
    "                            collate_fn=collate_fn)\n",
    "\n",
    "val_dataset = LibriSpeechDataset(csv_path='test-clean.csv')\n",
    "val_loader = DataLoader(val_dataset, batch_size=args.val_batch_size,\n",
    "                        collate_fn=collate_fn)\n",
    "\n",
    "device = torch.device('cuda')\n",
    "model = LSTMModel().to(device)\n",
    "optimizer = optim.Adam(model.parameters(), lr=0.0001)\n",
    "scheduler = optim.lr_scheduler.ReduceLROnPlateau(optimizer,\n",
    "                                                    factor=0.1,\n",
    "                                                    patience=1,\n",
    "                                                    threshold=0.01,\n",
    "                                                    verbose=True)\n",
    "criterion = nn.CTCLoss().to(device)\n"
   ]
  },
  {
   "cell_type": "code",
   "execution_count": null,
   "metadata": {},
   "outputs": [],
   "source": []
  },
  {
   "cell_type": "code",
   "execution_count": null,
   "metadata": {},
   "outputs": [],
   "source": []
  }
 ],
 "metadata": {
  "kernelspec": {
   "display_name": "Python 3.9.12 ('deep')",
   "language": "python",
   "name": "python3"
  },
  "language_info": {
   "codemirror_mode": {
    "name": "ipython",
    "version": 3
   },
   "file_extension": ".py",
   "mimetype": "text/x-python",
   "name": "python",
   "nbconvert_exporter": "python",
   "pygments_lexer": "ipython3",
   "version": "3.9.12"
  },
  "orig_nbformat": 4,
  "vscode": {
   "interpreter": {
    "hash": "6a2a3a3af096816301c7178121b9f28748e16a7be369f0d245d4beffb3ebaa12"
   }
  }
 },
 "nbformat": 4,
 "nbformat_minor": 2
}
