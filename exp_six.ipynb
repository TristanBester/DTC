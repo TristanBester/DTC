{
 "cells": [
  {
   "cell_type": "code",
   "execution_count": 2,
   "metadata": {},
   "outputs": [
    {
     "name": "stderr",
     "output_type": "stream",
     "text": [
      "/Users/tristan/miniconda3/envs/deep/lib/python3.9/site-packages/tqdm/auto.py:22: TqdmWarning: IProgress not found. Please update jupyter and ipywidgets. See https://ipywidgets.readthedocs.io/en/stable/user_install.html\n",
      "  from .autonotebook import tqdm as notebook_tqdm\n"
     ]
    }
   ],
   "source": [
    "import torch\n",
    "from tqdm import tqdm\n",
    "import numpy as np\n",
    "import torch.nn as nn\n",
    "import torch.nn.functional as F\n",
    "import torch.optim as optim\n",
    "import matplotlib.pyplot as plt\n",
    "from matplotlib.gridspec import GridSpec\n",
    "import matplotlib\n",
    "from sklearn.cluster import KMeans, AgglomerativeClustering\n",
    "import imageio\n",
    "import os\n",
    "import copy"
   ]
  },
  {
   "cell_type": "code",
   "execution_count": 3,
   "metadata": {},
   "outputs": [
    {
     "data": {
      "text/plain": [
       "torch.Size([9, 1, 6])"
      ]
     },
     "execution_count": 3,
     "metadata": {},
     "output_type": "execute_result"
    }
   ],
   "source": [
    "X = np.array([\n",
    "    [1,1,1,1,1,1],\n",
    "    [1,2,1,2,1,2],\n",
    "    [2,1,2,2,1,1],\n",
    "    [10,10,10,10,10,10],\n",
    "    [10,11,10,10,10,10],\n",
    "    [10,11,9,10,9,10],\n",
    "    [20,20,20,20,20,20],\n",
    "    [21,20,19,20,21,21],\n",
    "    [19,21,19,20,21,20]\n",
    "])\n",
    "\n",
    "dataset = torch.tensor(X).unsqueeze(1).to(torch.float)\n",
    "dataset.shape"
   ]
  },
  {
   "cell_type": "code",
   "execution_count": 4,
   "metadata": {},
   "outputs": [
    {
     "data": {
      "image/png": "[encoded data removed]",
      "text/plain": [
       "<Figure size 432x288 with 1 Axes>"
      ]
     },
     "metadata": {
      "needs_background": "light"
     },
     "output_type": "display_data"
    }
   ],
   "source": [
    "plt.plot(range(6), X[0], marker='x', c='r')\n",
    "plt.plot(range(6), X[1], marker='x', c='r')\n",
    "plt.plot(range(6), X[2], marker='x', c='r')\n",
    "plt.plot(range(6), X[3], marker='x', c='g')\n",
    "plt.plot(range(6), X[4], marker='x', c='g')\n",
    "plt.plot(range(6), X[5], marker='x', c='g')\n",
    "plt.plot(range(6), X[6], marker='x', c='b')\n",
    "plt.plot(range(6), X[7], marker='x', c='b')\n",
    "plt.plot(range(6), X[8], marker='x', c='b')\n",
    "plt.xlabel('$X$')\n",
    "plt.ylabel('$Y$')\n",
    "plt.title('Feature space')\n",
    "plt.show()"
   ]
  },
  {
   "cell_type": "code",
   "execution_count": 5,
   "metadata": {},
   "outputs": [],
   "source": [
    "class Encoder(nn.Module):\n",
    "    def __init__(self) -> None:\n",
    "        super().__init__()\n",
    "        self.cnn = nn.Conv1d(1,1,3,1)\n",
    "        self.max_pool = nn.MaxPool1d(2,1)\n",
    "        self.lstm_hidden_dim = 1\n",
    "        self.lstm = nn.LSTM(\n",
    "            input_size=1,\n",
    "            hidden_size=1,\n",
    "            num_layers=2,\n",
    "            batch_first=True,\n",
    "            bidirectional=True\n",
    "        )\n",
    "\n",
    "    def forward(self, x):\n",
    "        x = self.max_pool(F.relu(self.cnn(x)))\n",
    "        x = x.permute(0, 2, 1)\n",
    "        x, (_, _) = self.lstm(x)\n",
    "\n",
    "        x = x[:, :, : self.lstm_hidden_dim] + x[:, :, self.lstm_hidden_dim :]\n",
    "        x = x.permute(0,2,1)\n",
    "        return x\n",
    "\n",
    "class Decoder(nn.Module):\n",
    "    def __init__(self) -> None:\n",
    "        super().__init__()\n",
    "        # Make each time series have 4 elements\n",
    "        self.upsample = nn.Upsample(size=(4,))\n",
    "        self.decoder = nn.ConvTranspose1d(1,1,3,1)\n",
    "    \n",
    "    def forward(self,x):\n",
    "        x = self.upsample(x)\n",
    "        return F.relu(self.decoder(x))\n",
    "\n",
    "\n",
    "class TAE(nn.Module):\n",
    "    def __init__(self, encoder, decoder) -> None:\n",
    "        super().__init__()\n",
    "        self.encoder = encoder \n",
    "        self.decoder = decoder \n",
    "\n",
    "    def forward(self, x):\n",
    "        l = self.encoder(x)\n",
    "        x_prime = self.decoder(l)\n",
    "        return l, x_prime\n",
    "\n",
    "\n",
    "class ClusterLayer(nn.Module):\n",
    "    def __init__(self, encoder, centroids) -> None:\n",
    "        super().__init__()\n",
    "        self.encoder = encoder \n",
    "        self.centroids = nn.Parameter(centroids)\n",
    "    \n",
    "    def euclidean_distance(self, x, y):\n",
    "        dists = torch.zeros(9,3)\n",
    "\n",
    "        for i in range(9):\n",
    "            d = []\n",
    "            for j in range(3):\n",
    "                a = x[i].flatten()\n",
    "                b = y[j].flatten()\n",
    "                euc = ((a-b)**2).sum()\n",
    "                dists[i][j] = euc\n",
    "        return dists\n",
    "\n",
    "    def students_t_distribution_kernel(self, x, alpha=1):\n",
    "        num = torch.pow((1 + x / alpha), -(alpha + 1) / 2)\n",
    "        denom = num.sum(dim=1).reshape(-1, 1).repeat(1, 3)\n",
    "        return num / denom\n",
    "\n",
    "    def target_distribution(self, Q):\n",
    "        F = Q.sum(dim=0)\n",
    "        num = (Q ** 2) / F\n",
    "        denom = num.sum(dim=1).reshape(-1, 1).repeat(1, Q.shape[-1])\n",
    "        return num / denom\n",
    "\n",
    "    def forward(self, x):\n",
    "        l = self.encoder(x)\n",
    "        D = self.euclidean_distance(l, self.centroids)\n",
    "        Q = self.students_t_distribution_kernel(D)\n",
    "        P = self.target_distribution(Q)\n",
    "        return l, torch.log(Q), torch.log(P), Q, P"
   ]
  },
  {
   "cell_type": "code",
   "execution_count": 6,
   "metadata": {},
   "outputs": [],
   "source": [
    "def train_TAE(ae, n_epochs, min_lr):\n",
    "    optimizer = optim.Adam(ae.parameters(), lr=0.01)\n",
    "    criterion = nn.MSELoss()\n",
    "    sheduler = optim.lr_scheduler.ReduceLROnPlateau(\n",
    "        optimizer=optimizer,\n",
    "        factor=0.5,\n",
    "        patience=50,\n",
    "        threshold=0.01,\n",
    "        min_lr=min_lr\n",
    "    )\n",
    "\n",
    "    latents = []\n",
    "    losses = [] \n",
    "\n",
    "    pbar = tqdm(range(n_epochs))\n",
    "\n",
    "    for i in pbar:\n",
    "        l, x_prime = ae(dataset)\n",
    "        loss = criterion(x_prime, dataset)\n",
    "\n",
    "        optimizer.zero_grad()\n",
    "        loss.backward()\n",
    "        optimizer.step()\n",
    "        sheduler.step(loss.item())\n",
    "\n",
    "        latents.append(l.detach().numpy())\n",
    "        losses.append(loss.item())\n",
    "        \n",
    "        if i % 100 == 0:\n",
    "            pbar.set_description(f'{round(loss.item(), 6)}')\n",
    "    return latents, losses"
   ]
  },
  {
   "cell_type": "code",
   "execution_count": 7,
   "metadata": {},
   "outputs": [],
   "source": [
    "def euclidean_distance(x, y):\n",
    "    dists = torch.zeros(9,9)\n",
    "\n",
    "    for i in range(9):\n",
    "        d = []\n",
    "        for j in range(9):\n",
    "            a = x[i].flatten()\n",
    "            b = y[j].flatten()\n",
    "            euc = ((a-b)**2).sum()\n",
    "            dists[i][j] = euc\n",
    "    return dists"
   ]
  },
  {
   "cell_type": "code",
   "execution_count": 36,
   "metadata": {},
   "outputs": [
    {
     "name": "stderr",
     "output_type": "stream",
     "text": [
      "6.603338: 100%|██████████| 5000/5000 [00:12<00:00, 408.92it/s] \n"
     ]
    }
   ],
   "source": [
    "decoder = Decoder()\n",
    "encoder = Encoder()\n",
    "ae = TAE(encoder, decoder)\n",
    "\n",
    "latents, losses = train_TAE(ae, n_epochs=5000, min_lr=0.001)"
   ]
  },
  {
   "cell_type": "code",
   "execution_count": 37,
   "metadata": {},
   "outputs": [],
   "source": [
    "l = encoder(dataset).detach().squeeze(1).numpy()"
   ]
  },
  {
   "cell_type": "code",
   "execution_count": 38,
   "metadata": {},
   "outputs": [
    {
     "data": {
      "image/png": "[encoded data removed]",
      "text/plain": [
       "<Figure size 432x288 with 1 Axes>"
      ]
     },
     "metadata": {
      "needs_background": "light"
     },
     "output_type": "display_data"
    }
   ],
   "source": [
    "plt.plot(range(3), l[0], marker='x', c='r')\n",
    "plt.plot(range(3), l[1], marker='x', c='r')\n",
    "plt.plot(range(3), l[2], marker='x', c='r')\n",
    "plt.plot(range(3), l[3], marker='x', c='g')\n",
    "plt.plot(range(3), l[4], marker='x', c='g')\n",
    "plt.plot(range(3), l[5], marker='x', c='g')\n",
    "plt.plot(range(3), l[6], marker='x', c='b')\n",
    "plt.plot(range(3), l[7], marker='x', c='b')\n",
    "plt.plot(range(3), l[8], marker='x', c='b')\n",
    "plt.xlabel('$X$')\n",
    "plt.ylabel('$Y$')\n",
    "plt.title('Latent space')\n",
    "plt.show()"
   ]
  },
  {
   "cell_type": "code",
   "execution_count": 39,
   "metadata": {},
   "outputs": [],
   "source": [
    "latent, x_prime = ae(dataset)\n",
    "latent = latent.squeeze(1)\n",
    "similarity_matrix = euclidean_distance(latent, latent)\n",
    "\n",
    "similarity_matrix = similarity_matrix.detach().numpy()\n",
    "\n",
    "clustering_assignments = AgglomerativeClustering(\n",
    "    n_clusters=3, affinity=\"precomputed\", linkage=\"complete\",\n",
    ").fit_predict(similarity_matrix)\n",
    "\n",
    "centroids = []\n",
    "for i in np.unique(clustering_assignments):\n",
    "    centroid = latent[clustering_assignments == i].mean(dim=0).unsqueeze(0)\n",
    "    centroids.append(centroid)\n",
    "centroids = torch.cat(centroids)\n",
    "centroids = centroids.detach()"
   ]
  },
  {
   "cell_type": "code",
   "execution_count": 40,
   "metadata": {},
   "outputs": [
    {
     "data": {
      "image/png": "[encoded data removed]",
      "text/plain": [
       "<Figure size 432x288 with 1 Axes>"
      ]
     },
     "metadata": {
      "needs_background": "light"
     },
     "output_type": "display_data"
    }
   ],
   "source": [
    "plt.plot(range(3), l[0], marker='x', c='r')\n",
    "plt.plot(range(3), l[1], marker='x', c='r')\n",
    "plt.plot(range(3), l[2], marker='x', c='r')\n",
    "plt.plot(range(3), l[3], marker='x', c='g')\n",
    "plt.plot(range(3), l[4], marker='x', c='g')\n",
    "plt.plot(range(3), l[5], marker='x', c='g')\n",
    "plt.plot(range(3), l[6], marker='x', c='b')\n",
    "plt.plot(range(3), l[7], marker='x', c='b')\n",
    "plt.plot(range(3), l[8], marker='x', c='b')\n",
    "plt.plot(range(3), centroids[0], marker='x', c='black', label='Centroids')\n",
    "plt.plot(range(3), centroids[1], marker='x', c='black')\n",
    "plt.plot(range(3), centroids[2], marker='x', c='black')\n",
    "plt.xlabel('$X$')\n",
    "plt.ylabel('$Y$')\n",
    "plt.title('Latent space')\n",
    "plt.legend()\n",
    "plt.show()"
   ]
  },
  {
   "cell_type": "code",
   "execution_count": 41,
   "metadata": {},
   "outputs": [],
   "source": [
    "cl_main = ClusterLayer(encoder=encoder, centroids=centroids)"
   ]
  },
  {
   "cell_type": "code",
   "execution_count": 42,
   "metadata": {},
   "outputs": [],
   "source": [
    "ce_loss = nn.CrossEntropyLoss()"
   ]
  },
  {
   "cell_type": "code",
   "execution_count": 50,
   "metadata": {},
   "outputs": [],
   "source": [
    "def moving_average(a, n=3) :\n",
    "    ret = np.cumsum(a, dtype=float)\n",
    "    ret[n:] = ret[n:] - ret[:-n]\n",
    "    return ret[n - 1:] / n\n",
    "\n",
    "\n",
    "def fit_DTC(cl, output_name, lr, loss_type):\n",
    "    optimizer = optim.SGD(cl.parameters(), lr=lr)\n",
    "    scheduler = optim.lr_scheduler.ReduceLROnPlateau(optimizer, factor=0.9, patience=50, verbose=1)\n",
    "    mse = nn.MSELoss()\n",
    "    kl = nn.KLDivLoss(reduction='batchmean', log_target=True)\n",
    "\n",
    "    filenames = []\n",
    "\n",
    "    last_loss = float('inf')\n",
    "    tol = 0.001\n",
    "    patience_counter = 0\n",
    "    patience_tol = 1000\n",
    "\n",
    "    all_losses = []\n",
    "    all_mse = []\n",
    "    all_kl = []\n",
    "    all_ce = []\n",
    "\n",
    "    pbar = tqdm(range(10000))\n",
    "\n",
    "    for i in pbar:\n",
    "        l, log_P, log_Q, Q, P = cl(dataset)\n",
    "        x_prime = decoder(l)\n",
    "\n",
    "        mse_loss = mse(dataset, x_prime)\n",
    "        kl_loss = kl(log_Q, log_P)\n",
    "\n",
    "        target = F.one_hot(Q.argmax(dim=1), num_classes=3).to(torch.float)\n",
    "\n",
    "        entropy_loss = ce_loss(Q, target)\n",
    "\n",
    "        if loss_type == 'ce':\n",
    "            dtc_loss = mse_loss + 5000 * entropy_loss\n",
    "        else:\n",
    "            dtc_loss = mse_loss + kl_loss\n",
    "\n",
    "        all_losses.append(dtc_loss.item())\n",
    "        all_mse.append(mse_loss.item())\n",
    "        all_kl.append(kl_loss.item())\n",
    "        all_ce.append(entropy_loss.item())\n",
    "\n",
    "        optimizer.zero_grad()\n",
    "        dtc_loss.backward()\n",
    "        optimizer.step()\n",
    "\n",
    "        \n",
    "        if i % 100 == 0 and i != 0:\n",
    "            fig, ax = plt.subplots(2,2)\n",
    "\n",
    "            ls = [x.flatten().detach() for x in l]\n",
    "            cents = [x.flatten().detach() for x in cl.centroids]\n",
    "\n",
    "            ax[0][0].plot(range(len(all_mse)), all_mse)\n",
    "            ax[0][0].set_xlabel('$Epoch$')\n",
    "            ax[0][0].set_ylabel('$Loss$')\n",
    "            ax[0][0].set_title(f'MSE')\n",
    "\n",
    "            if loss_type != 'ce':\n",
    "                ax[0][1].plot(range(len(all_kl)), all_kl)\n",
    "                ax[0][1].set_xlabel('$Epoch$')\n",
    "                ax[0][1].set_ylabel('$Loss$')\n",
    "                ax[0][1].set_title(f'KL Divergence Loss')\n",
    "            else:\n",
    "                ax[0][1].plot(range(len(all_ce)), all_ce)\n",
    "                ax[0][1].set_xlabel('$Epoch$')\n",
    "                ax[0][1].set_ylabel('$Loss$')\n",
    "                ax[0][1].set_title(f'Cross Entropy Loss')\n",
    "\n",
    "            ax[1][0].plot(range(3), ls[0], c='r')\n",
    "            ax[1][0].plot(range(3), ls[1], c='r')\n",
    "            ax[1][0].plot(range(3), ls[2], c='r')\n",
    "            ax[1][0].plot(range(3), ls[3], c='g')\n",
    "            ax[1][0].plot(range(3), ls[4], c='g')\n",
    "            ax[1][0].plot(range(3), ls[5], c='g')\n",
    "            ax[1][0].plot(range(3), ls[6], c='b')\n",
    "            ax[1][0].plot(range(3), ls[7], c='b')\n",
    "            ax[1][0].plot(range(3), ls[8], c='b')\n",
    "            ax[1][0].plot(range(3), cents[0], c='black', label='Centroids')\n",
    "            ax[1][0].plot(range(3), cents[1], c='black')\n",
    "            ax[1][0].plot(range(3), cents[2], c='black')\n",
    "            ax[1][0].set_xlabel('$X$')\n",
    "            ax[1][0].set_ylabel('$Y$')\n",
    "            ax[1][0].set_title('Latent space')\n",
    "            ax[1][0].legend()\n",
    "\n",
    "            ax[1][1].plot(range(len(all_losses)), all_losses)\n",
    "            ax[1][1].set_xlabel('$Epoch$')\n",
    "            ax[1][1].set_ylabel('$Loss$')\n",
    "            ax[1][1].set_title(f'DTC ')\n",
    "\n",
    "            fig.set_size_inches(25, 15)\n",
    "            fig.suptitle(f'TAE min lr = 0.01 || DTC lr = {lr}')\n",
    "\n",
    "            filename = f'temp/img_{i}.png'\n",
    "            filenames.append(filename)\n",
    "\n",
    "            # plt.show()\n",
    "            # 0/0\n",
    "\n",
    "            plt.savefig(filename)\n",
    "            plt.close()\n",
    "\n",
    "            pbar.set_description(f'{round(dtc_loss.item(), 8)}')\n",
    "\n",
    "        # if abs(last_loss - dtc_loss.item()) < tol:\n",
    "        #     if patience_counter >= patience_tol:\n",
    "        #         break\n",
    "        #     patience_counter += 1\n",
    "        # else:\n",
    "        #     last_loss = dtc_loss.item()\n",
    "        #     patience_counter = 0\n",
    "\n",
    "        # scheduler.step(dtc_loss.item())\n",
    "        # all_losses.append(dtc_loss.item())\n",
    "\n",
    "    # build gif\n",
    "    with imageio.get_writer(f'{output_name}.gif', mode='I') as writer:\n",
    "        for filename in filenames:\n",
    "            image = imageio.v2.imread(filename)\n",
    "            writer.append_data(image)\n",
    "            \n",
    "    # Remove files\n",
    "    for filename in set(filenames):\n",
    "        os.remove(filename)"
   ]
  },
  {
   "cell_type": "code",
   "execution_count": 86,
   "metadata": {},
   "outputs": [
    {
     "name": "stderr",
     "output_type": "stream",
     "text": [
      "2.76614308: 100%|██████████| 20000/20000 [01:34<00:00, 211.48it/s]\n"
     ]
    }
   ],
   "source": [
    "cl = copy.deepcopy(cl_main)\n",
    "fit_DTC(cl, 'exp_kl', 0.001, loss_type='kl')"
   ]
  },
  {
   "cell_type": "code",
   "execution_count": 51,
   "metadata": {},
   "outputs": [
    {
     "name": "stderr",
     "output_type": "stream",
     "text": [
      "3622.54248047: 100%|██████████| 10000/10000 [00:54<00:00, 182.35it/s]\n"
     ]
    }
   ],
   "source": [
    "cl = copy.deepcopy(cl_main)\n",
    "fit_DTC(cl, 'exp_ce', 0.000001, loss_type='ce')"
   ]
  },
  {
   "cell_type": "code",
   "execution_count": null,
   "metadata": {},
   "outputs": [],
   "source": []
  }
 ],
 "metadata": {
  "kernelspec": {
   "display_name": "Python 3.9.12 ('deep')",
   "language": "python",
   "name": "python3"
  },
  "language_info": {
   "codemirror_mode": {
    "name": "ipython",
    "version": 3
   },
   "file_extension": ".py",
   "mimetype": "text/x-python",
   "name": "python",
   "nbconvert_exporter": "python",
   "pygments_lexer": "ipython3",
   "version": "3.9.12"
  },
  "orig_nbformat": 4,
  "vscode": {
   "interpreter": {
    "hash": "6a2a3a3af096816301c7178121b9f28748e16a7be369f0d245d4beffb3ebaa12"
   }
  }
 },
 "nbformat": 4,
 "nbformat_minor": 2
}
