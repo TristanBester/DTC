{
 "cells": [
  {
   "cell_type": "code",
   "execution_count": 3,
   "metadata": {},
   "outputs": [
    {
     "name": "stderr",
     "output_type": "stream",
     "text": [
      "/Users/tristan/miniconda3/envs/deep/lib/python3.9/site-packages/tqdm/auto.py:22: TqdmWarning: IProgress not found. Please update jupyter and ipywidgets. See https://ipywidgets.readthedocs.io/en/stable/user_install.html\n",
      "  from .autonotebook import tqdm as notebook_tqdm\n"
     ]
    }
   ],
   "source": [
    "import torch \n",
    "import torch.nn as nn \n",
    "import torch.nn.functional as F\n",
    "import wandb\n",
    "import torch.optim as optim\n",
    "from src.datasets.polynomial import PolynomialDataset\n",
    "from torch.utils.data import DataLoader\n",
    "from tqdm import tqdm\n",
    "import numpy as np\n",
    "from sklearn.cluster import AgglomerativeClustering"
   ]
  },
  {
   "cell_type": "code",
   "execution_count": 8,
   "metadata": {},
   "outputs": [
    {
     "data": {
      "text/html": [
       "Finishing last run (ID:3sysai0x) before initializing another..."
      ],
      "text/plain": [
       "<IPython.core.display.HTML object>"
      ]
     },
     "metadata": {},
     "output_type": "display_data"
    },
    {
     "data": {
      "text/html": [
       "Waiting for W&B process to finish... <strong style=\"color:green\">(success).</strong>"
      ],
      "text/plain": [
       "<IPython.core.display.HTML object>"
      ]
     },
     "metadata": {},
     "output_type": "display_data"
    },
    {
     "data": {
      "text/html": [
       "Synced <strong style=\"color:#cdcd00\">test</strong>: <a href=\"https://wandb.ai/tristanbester1/DTC/runs/3sysai0x\" target=\"_blank\">https://wandb.ai/tristanbester1/DTC/runs/3sysai0x</a><br/>Synced 5 W&B file(s), 0 media file(s), 0 artifact file(s) and 0 other file(s)"
      ],
      "text/plain": [
       "<IPython.core.display.HTML object>"
      ]
     },
     "metadata": {},
     "output_type": "display_data"
    },
    {
     "data": {
      "text/html": [
       "Find logs at: <code>./wandb/run-20220813_210005-3sysai0x/logs</code>"
      ],
      "text/plain": [
       "<IPython.core.display.HTML object>"
      ]
     },
     "metadata": {},
     "output_type": "display_data"
    },
    {
     "data": {
      "text/html": [
       "Successfully finished last run (ID:3sysai0x). Initializing new run:<br/>"
      ],
      "text/plain": [
       "<IPython.core.display.HTML object>"
      ]
     },
     "metadata": {},
     "output_type": "display_data"
    },
    {
     "data": {
      "text/html": [
       "Tracking run with wandb version 0.13.1"
      ],
      "text/plain": [
       "<IPython.core.display.HTML object>"
      ]
     },
     "metadata": {},
     "output_type": "display_data"
    },
    {
     "data": {
      "text/html": [
       "Run data is saved locally in <code>/Users/tristan/Documents/CS/Research/DTC/wandb/run-20220813_210042-te2wm7dw</code>"
      ],
      "text/plain": [
       "<IPython.core.display.HTML object>"
      ]
     },
     "metadata": {},
     "output_type": "display_data"
    },
    {
     "data": {
      "text/html": [
       "Syncing run <strong><a href=\"https://wandb.ai/tristanbester1/DTC/runs/te2wm7dw\" target=\"_blank\">test</a></strong> to <a href=\"https://wandb.ai/tristanbester1/DTC\" target=\"_blank\">Weights & Biases</a> (<a href=\"https://wandb.me/run\" target=\"_blank\">docs</a>)<br/>"
      ],
      "text/plain": [
       "<IPython.core.display.HTML object>"
      ]
     },
     "metadata": {},
     "output_type": "display_data"
    }
   ],
   "source": [
    "run = wandb.init(project=\"DTC\", name='test')\n",
    "dataset = PolynomialDataset(\n",
    "    run,\n",
    "    \"tristanbester1/DTC/polynomial_dataset_X:v0\",\n",
    "    \"tristanbester1/DTC/polynomial_dataset_Y:v0\",\n",
    ")\n",
    "\n",
    "train_size = int(0.8 * len(dataset))\n",
    "test_size = len(dataset) - train_size\n",
    "train_dataset, test_dataset = torch.utils.data.random_split(\n",
    "    dataset, [train_size, test_size]\n",
    ")\n",
    "train_loader = DataLoader(dataset=train_dataset, batch_size=10)\n",
    "test_loader = DataLoader(dataset=test_dataset, batch_size=1)"
   ]
  },
  {
   "cell_type": "code",
   "execution_count": 5,
   "metadata": {},
   "outputs": [],
   "source": [
    "def euclidean_distance(x, y):\n",
    "    '''\n",
    "    Return (x.shape[0], y.shape[0]) matrix where each element is d(x_i, y_i) \n",
    "    where x_i is the i-th time series in x => x_i = x[i].\n",
    "    '''\n",
    "    a = x.repeat(1,1,y.shape[0]).permute(0,2,1)\n",
    "    b = y.repeat(x.shape[0],1,1).reshape(a.shape)\n",
    "    return torch.sqrt(torch.sum((a - b)**2, dim=2))"
   ]
  },
  {
   "cell_type": "code",
   "execution_count": 60,
   "metadata": {},
   "outputs": [],
   "source": [
    "class Encoder(nn.Module):\n",
    "    def __init__(self, input_dim, seq_len, cnn_kernel, cnn_stride, mp_kernel, mp_stride, lstm_hidden_dim) -> None:\n",
    "        super().__init__()\n",
    "\n",
    "        self.input_dim = input_dim\n",
    "        self.seq_len = seq_len\n",
    "        self.cnn_kernel = cnn_kernel\n",
    "        self.cnn_stride = cnn_stride\n",
    "        self.mp_kernel = mp_kernel\n",
    "        self.mp_stride = mp_stride\n",
    "        self.lstm_hidden_dim = lstm_hidden_dim\n",
    "\n",
    "        self.cnn = nn.Conv1d(\n",
    "            in_channels=self.input_dim,\n",
    "            out_channels=1,\n",
    "            kernel_size=self.cnn_kernel,\n",
    "            stride=self.cnn_stride,\n",
    "            padding=0,\n",
    "            dilation=1,\n",
    "        )\n",
    "        self.max_pool = nn.MaxPool1d(\n",
    "            kernel_size=self.mp_kernel, stride=self.mp_stride, padding=0, dilation=1\n",
    "        )\n",
    "\n",
    "        self.lstm = nn.LSTM(\n",
    "            input_size=1,\n",
    "            hidden_size=self.lstm_hidden_dim,\n",
    "            num_layers=2,\n",
    "            batch_first=True,\n",
    "            dropout=0,\n",
    "            bidirectional=True,\n",
    "        )\n",
    "    \n",
    "    def forward(self, x):\n",
    "        x = x.permute(0, 2, 1)\n",
    "        x = F.relu(self.cnn(x))\n",
    "        x = self.max_pool(x)\n",
    "\n",
    "        x = x.permute(0, 2, 1)\n",
    "        x, (_, _) = self.lstm(x)\n",
    "\n",
    "        x = x[:, :, : self.lstm_hidden_dim] + x[:, :, self.lstm_hidden_dim :]\n",
    "        return x\n",
    "\n",
    "\n",
    "class Decoder(nn.Module):\n",
    "    def __init__(self, upsample_scale, input_dim, hidden_dim, deconv_kernel, deconv_stride) -> None:\n",
    "        super().__init__()\n",
    "\n",
    "        self.upsample_scale = upsample_scale\n",
    "        self.input_dim = input_dim\n",
    "        self.hidden_dim = hidden_dim\n",
    "        self.deconv_kernel = deconv_kernel\n",
    "        self.deconv_stride = deconv_stride\n",
    "\n",
    "        self.upsample = nn.Upsample(scale_factor=self.upsample_scale)\n",
    "        self.deconv_cnn = nn.ConvTranspose1d(\n",
    "            in_channels=self.hidden_dim,\n",
    "            out_channels=self.input_dim,\n",
    "            kernel_size=self.deconv_kernel,\n",
    "            stride=self.deconv_stride,\n",
    "            padding=0,\n",
    "        )\n",
    "\n",
    "    def forward(self, x):\n",
    "        x = x.permute(0, 2, 1)\n",
    "        x = self.upsample(x)\n",
    "\n",
    "        x = self.deconv_cnn(x)\n",
    "        x = x.permute(0, 2, 1)\n",
    "        return x\n",
    "\n",
    "\n",
    "class ClusteringLayer(nn.Module):\n",
    "    def __init__(self, centroids) -> None:\n",
    "        super().__init__()\n",
    "\n",
    "        self.centroids = nn.Parameter(centroids)\n",
    "\n",
    "    def students_t_distribution_kernel(self, x, alpha):\n",
    "        num = torch.pow((1 + x/alpha), -(alpha+1)/2)\n",
    "        denom = num.sum(dim=1).reshape(-1,1).repeat(1, self.centroids.shape[0])\n",
    "        return num / denom\n",
    "\n",
    "    def forward(self, x):\n",
    "        D = euclidean_distance(x, self.centroids)\n",
    "        Q = self.students_t_distribution_kernel(D, 3)        \n",
    "        return Q"
   ]
  },
  {
   "cell_type": "code",
   "execution_count": 61,
   "metadata": {},
   "outputs": [],
   "source": [
    "encoder = Encoder(input_dim=1, seq_len=100, cnn_kernel=10, cnn_stride=3, mp_kernel=10, mp_stride=3, lstm_hidden_dim=1)\n",
    "decoder = Decoder(upsample_scale=2, input_dim=1, hidden_dim=1, deconv_kernel=10, deconv_stride=6)\n",
    "autoencoder = nn.Sequential(encoder, decoder)"
   ]
  },
  {
   "cell_type": "code",
   "execution_count": 62,
   "metadata": {},
   "outputs": [],
   "source": [
    "device = torch.device('cpu')"
   ]
  },
  {
   "cell_type": "code",
   "execution_count": 63,
   "metadata": {},
   "outputs": [],
   "source": [
    "ae_criterion = nn.MSELoss()\n",
    "ae_optimizer = optim.Adam(autoencoder.parameters(), lr=0.001)"
   ]
  },
  {
   "cell_type": "code",
   "execution_count": 64,
   "metadata": {},
   "outputs": [],
   "source": [
    "def train_autoencoder_one_epoch(model, optimizer, criterion, data_loader, device):\n",
    "    model.train()\n",
    "    ave_loss = 0\n",
    "\n",
    "    for x, _ in data_loader:\n",
    "        x = x.to(device)\n",
    "\n",
    "        optimizer.zero_grad()\n",
    "        outputs = model(x)\n",
    "        loss = criterion(outputs, x)\n",
    "        loss.backward()\n",
    "        optimizer.step()\n",
    "\n",
    "        ave_loss += loss.item()\n",
    "    return ave_loss / len(data_loader)\n",
    "\n",
    "def get_latent_representations(encoder, data_loader):\n",
    "    latent = []\n",
    "\n",
    "    for x, _ in data_loader:\n",
    "        latent.append(encoder(x).detach())\n",
    "    return torch.cat(latent)\n",
    "    \n",
    "def init_centroids(autoencoder, ae_optimizer, ae_criterion, data_loader, device, pretrain_epochs):\n",
    "    for _ in range(pretrain_epochs):\n",
    "        train_autoencoder_one_epoch(autoencoder, ae_optimizer, ae_criterion, data_loader, device)\n",
    "\n",
    "    L = get_latent_representations(autoencoder[0], data_loader)\n",
    "    D = euclidean_distance(L,L)\n",
    "\n",
    "    clustering_assignments = AgglomerativeClustering(\n",
    "        n_clusters=3, \n",
    "        affinity='precomputed',\n",
    "        linkage='complete',\n",
    "    ).fit_predict(D)\n",
    "\n",
    "    centroids = []\n",
    "\n",
    "    for i in np.unique(clustering_assignments):\n",
    "        centroid = L[clustering_assignments == i].mean(dim=0).unsqueeze(0)\n",
    "        centroids.append(centroid)\n",
    "\n",
    "    centroids = torch.cat(centroids)  \n",
    "    return centroids"
   ]
  },
  {
   "cell_type": "code",
   "execution_count": 69,
   "metadata": {},
   "outputs": [],
   "source": [
    "def target_distribution(Q):\n",
    "    F = Q.sum(dim=0)\n",
    "    num = (Q**2) / F\n",
    "    denom = num.sum(dim=1).reshape(-1,1).repeat(1, Q.shape[-1])\n",
    "    return num / denom"
   ]
  },
  {
   "cell_type": "code",
   "execution_count": 79,
   "metadata": {},
   "outputs": [],
   "source": [
    "centroids = init_centroids(autoencoder, ae_optimizer, ae_criterion, train_loader, device, 100)"
   ]
  },
  {
   "cell_type": "code",
   "execution_count": 80,
   "metadata": {},
   "outputs": [],
   "source": [
    "clustering_layer = ClusteringLayer(centroids=centroids)"
   ]
  },
  {
   "cell_type": "code",
   "execution_count": 81,
   "metadata": {},
   "outputs": [],
   "source": [
    "cl_criterion = nn.KLDivLoss(log_target=True, reduction='batchmean')\n",
    "cl_optimizer = optim.Adam(params=clustering_layer.parameters(), lr=0.001)"
   ]
  },
  {
   "cell_type": "code",
   "execution_count": null,
   "metadata": {},
   "outputs": [],
   "source": []
  },
  {
   "cell_type": "code",
   "execution_count": null,
   "metadata": {},
   "outputs": [],
   "source": []
  },
  {
   "cell_type": "code",
   "execution_count": null,
   "metadata": {},
   "outputs": [],
   "source": []
  },
  {
   "cell_type": "code",
   "execution_count": null,
   "metadata": {},
   "outputs": [],
   "source": []
  },
  {
   "cell_type": "code",
   "execution_count": 82,
   "metadata": {},
   "outputs": [
    {
     "name": "stdout",
     "output_type": "stream",
     "text": [
      "0.06780087202787399\t0.05996735766530037\n",
      "0.07618322223424911\t0.05294907093048096\n",
      "0.06542900949716568\t0.05739007517695427\n",
      "0.05953340232372284\t0.033333323895931244\n",
      "0.051723696291446686\t0.046641964465379715\n",
      "0.05928212031722069\t0.04551834613084793\n",
      "0.09605970978736877\t0.04515484720468521\n",
      "0.0920778214931488\t0.04284244775772095\n",
      "0.09711684286594391\t0.0406293161213398\n",
      "0.06436186283826828\t0.025842886418104172\n",
      "0.09263397753238678\t0.0457649789750576\n",
      "0.06878775358200073\t0.0484350323677063\n",
      "0.06542699784040451\t0.0519767627120018\n",
      "0.10645460337400436\t0.04716832935810089\n",
      "0.13430963456630707\t0.03235121816396713\n",
      "0.17417825758457184\t0.03299153596162796\n",
      "0.22192886471748352\t0.03566808998584747\n",
      "0.15718519687652588\t0.027432948350906372\n",
      "0.124384805560112\t0.04048712179064751\n",
      "0.07262879610061646\t0.04446377605199814\n",
      "0.06922172755002975\t0.0447867289185524\n",
      "0.10606171935796738\t0.02962128445506096\n",
      "0.21076007187366486\t0.011583676561713219\n",
      "0.45274361968040466\t0.010326487012207508\n"
     ]
    }
   ],
   "source": [
    "\n",
    "\n",
    "for i in range(10):\n",
    "    for x, _ in train_loader:\n",
    "        L = autoencoder[0](x)\n",
    "        x_prime = autoencoder[1](L)\n",
    "        Q = clustering_layer(L)        \n",
    "        P = target_distribution(Q)\n",
    "\n",
    "        log_Q = torch.log(Q)\n",
    "        log_P = torch.log(P)\n",
    "\n",
    "        ae_loss = ae_criterion(x_prime, x)\n",
    "        cl_loss = cl_criterion(log_Q, log_P)\n",
    "\n",
    "        ae_loss.backward(retain_graph=True)\n",
    "        cl_loss.backward()\n",
    "\n",
    "        ae_optimizer.step()\n",
    "        cl_optimizer.step()\n",
    "\n",
    "        print(f\"{ae_loss.item()}\\t{cl_loss.item()}\")\n",
    "    break"
   ]
  },
  {
   "cell_type": "code",
   "execution_count": null,
   "metadata": {},
   "outputs": [],
   "source": []
  },
  {
   "cell_type": "code",
   "execution_count": null,
   "metadata": {},
   "outputs": [],
   "source": []
  },
  {
   "cell_type": "code",
   "execution_count": null,
   "metadata": {},
   "outputs": [],
   "source": []
  },
  {
   "cell_type": "code",
   "execution_count": null,
   "metadata": {},
   "outputs": [],
   "source": []
  },
  {
   "cell_type": "code",
   "execution_count": null,
   "metadata": {},
   "outputs": [],
   "source": []
  },
  {
   "cell_type": "code",
   "execution_count": null,
   "metadata": {},
   "outputs": [],
   "source": []
  },
  {
   "cell_type": "code",
   "execution_count": null,
   "metadata": {},
   "outputs": [],
   "source": []
  },
  {
   "cell_type": "code",
   "execution_count": 117,
   "metadata": {},
   "outputs": [],
   "source": [
    "def train_autoencoder_one_epoch(model, optimizer, criterion, data_loader, device):\n",
    "    model.train()\n",
    "    ave_loss = 0\n",
    "\n",
    "    for x, _ in data_loader:\n",
    "        x = x.to(device)\n",
    "\n",
    "        optimizer.zero_grad()\n",
    "        outputs = model(x)\n",
    "        loss = criterion(outputs, x)\n",
    "        loss.backward()\n",
    "        optimizer.step()\n",
    "\n",
    "        ave_loss += loss.item()\n",
    "    return ave_loss / len(data_loader)\n",
    "\n",
    "def init_centroids(autoencoder, data_loader):\n",
    "    L = []\n",
    "\n",
    "    for x, _ in train_loader:\n",
    "        L.append(encoder(x).detach())\n",
    "    L = torch.cat(L)\n",
    "\n",
    "    similarity_matrix = euclidean_distance(L, L)\n",
    "\n",
    "    cluster_algo = AgglomerativeClustering(\n",
    "        n_clusters=3,\n",
    "        affinity='euclidean',\n",
    "        linkage='complete',\n",
    "    )\n",
    "\n",
    "    assignments = cluster_algo.fit_predict(similarity_matrix)\n",
    "\n",
    "    centroids = []\n",
    "\n",
    "    for i in np.unique(assignments):\n",
    "        centroid = L[assignments == i].mean(dim=0).unsqueeze(0)\n",
    "        centroids.append(centroid)\n",
    "\n",
    "    centroids = torch.cat(centroids)    \n",
    "    return centroids"
   ]
  },
  {
   "cell_type": "code",
   "execution_count": 77,
   "metadata": {},
   "outputs": [
    {
     "data": {
      "text/plain": [
       "0.2597264308482409"
      ]
     },
     "execution_count": 77,
     "metadata": {},
     "output_type": "execute_result"
    }
   ],
   "source": [
    "train_autoencoder_one_epoch(autoencoder, optimizer, criterion, train_loader, device)"
   ]
  },
  {
   "cell_type": "code",
   "execution_count": 119,
   "metadata": {},
   "outputs": [
    {
     "name": "stderr",
     "output_type": "stream",
     "text": [
      "/Users/tristan/miniconda3/envs/deep/lib/python3.9/site-packages/sklearn/cluster/_agglomerative.py:541: ClusterWarning: scipy.cluster: The symmetric non-negative hollow observation matrix looks suspiciously like an uncondensed distance matrix\n",
      "  out = hierarchy.linkage(X, method=linkage, metric=affinity)\n"
     ]
    }
   ],
   "source": [
    "centroids = init_centroids(autoencoder, train_loader)"
   ]
  },
  {
   "cell_type": "code",
   "execution_count": 120,
   "metadata": {},
   "outputs": [
    {
     "data": {
      "text/plain": [
       "tensor([[[ 0.8481],\n",
       "         [ 0.6248],\n",
       "         [ 0.2972],\n",
       "         [ 0.0330],\n",
       "         [-0.0683],\n",
       "         [-0.0994],\n",
       "         [-0.1102],\n",
       "         [-0.0787]],\n",
       "\n",
       "        [[-0.2263],\n",
       "         [-0.1735],\n",
       "         [-0.1474],\n",
       "         [-0.1528],\n",
       "         [-0.1621],\n",
       "         [-0.1779],\n",
       "         [-0.2171],\n",
       "         [-0.2192]],\n",
       "\n",
       "        [[ 1.0319],\n",
       "         [ 0.9851],\n",
       "         [ 0.8217],\n",
       "         [ 0.5410],\n",
       "         [ 0.2272],\n",
       "         [-0.1579],\n",
       "         [-0.2714],\n",
       "         [-0.2208]]])"
      ]
     },
     "execution_count": 120,
     "metadata": {},
     "output_type": "execute_result"
    }
   ],
   "source": [
    "centroids"
   ]
  },
  {
   "cell_type": "code",
   "execution_count": 146,
   "metadata": {},
   "outputs": [],
   "source": [
    "\n"
   ]
  },
  {
   "cell_type": "code",
   "execution_count": 148,
   "metadata": {},
   "outputs": [],
   "source": [
    "cluster_layer = ClusteringLayer(centroids)"
   ]
  },
  {
   "cell_type": "code",
   "execution_count": 156,
   "metadata": {},
   "outputs": [],
   "source": [
    "criterion = nn.KLDivLoss(log_target=True, reduction='batchmean')\n",
    "optimizer = optim.Adam(cluster_layer.parameters(), lr=0.001)"
   ]
  },
  {
   "cell_type": "code",
   "execution_count": 157,
   "metadata": {},
   "outputs": [],
   "source": [
    "for x, _ in train_loader:\n",
    "    l = encoder(x).detach()\n",
    "    l_q, l_p = cluster_layer(l)\n",
    "    loss = criterion(l_q, l_p)\n",
    "    loss.backward()\n",
    "    optimizer.step()\n",
    "    # print(loss.item())\n"
   ]
  },
  {
   "cell_type": "code",
   "execution_count": null,
   "metadata": {},
   "outputs": [],
   "source": []
  },
  {
   "cell_type": "code",
   "execution_count": null,
   "metadata": {},
   "outputs": [],
   "source": []
  },
  {
   "cell_type": "code",
   "execution_count": null,
   "metadata": {},
   "outputs": [],
   "source": []
  },
  {
   "cell_type": "code",
   "execution_count": null,
   "metadata": {},
   "outputs": [],
   "source": []
  },
  {
   "cell_type": "code",
   "execution_count": null,
   "metadata": {},
   "outputs": [],
   "source": []
  },
  {
   "cell_type": "code",
   "execution_count": null,
   "metadata": {},
   "outputs": [],
   "source": []
  },
  {
   "cell_type": "code",
   "execution_count": null,
   "metadata": {},
   "outputs": [],
   "source": []
  }
 ],
 "metadata": {
  "kernelspec": {
   "display_name": "Python 3.9.12 ('deep')",
   "language": "python",
   "name": "python3"
  },
  "language_info": {
   "codemirror_mode": {
    "name": "ipython",
    "version": 3
   },
   "file_extension": ".py",
   "mimetype": "text/x-python",
   "name": "python",
   "nbconvert_exporter": "python",
   "pygments_lexer": "ipython3",
   "version": "3.9.12"
  },
  "orig_nbformat": 4,
  "vscode": {
   "interpreter": {
    "hash": "6a2a3a3af096816301c7178121b9f28748e16a7be369f0d245d4beffb3ebaa12"
   }
  }
 },
 "nbformat": 4,
 "nbformat_minor": 2
}
