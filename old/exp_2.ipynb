{
 "cells": [
  {
   "cell_type": "code",
   "execution_count": 1,
   "metadata": {},
   "outputs": [
    {
     "name": "stderr",
     "output_type": "stream",
     "text": [
      "/Users/tristan/miniconda3/envs/deep/lib/python3.9/site-packages/tqdm/auto.py:22: TqdmWarning: IProgress not found. Please update jupyter and ipywidgets. See https://ipywidgets.readthedocs.io/en/stable/user_install.html\n",
      "  from .autonotebook import tqdm as notebook_tqdm\n"
     ]
    }
   ],
   "source": [
    "import torch\n",
    "import numpy as np\n",
    "import torch.nn as nn\n",
    "import torch.nn.functional as F\n",
    "import torch.optim as optim\n",
    "import matplotlib.pyplot as plt\n",
    "from sklearn.cluster import KMeans\n",
    "from tqdm import tqdm"
   ]
  },
  {
   "cell_type": "code",
   "execution_count": 2,
   "metadata": {},
   "outputs": [],
   "source": [
    "X = np.array([\n",
    "    [1,1,1,1,1,1],\n",
    "    [1,1,1,1,1,1],\n",
    "    [1,1,1,1,1,1],\n",
    "    [2,2,2,2,2,2],\n",
    "    [2,2,2,2,2,2],\n",
    "    [2,2,2,2,2,2],\n",
    "    [3,3,3,3,3,3],\n",
    "    [3,3,3,3,3,3],\n",
    "    [3,3,3,3,3,3],\n",
    "])"
   ]
  },
  {
   "cell_type": "code",
   "execution_count": 3,
   "metadata": {},
   "outputs": [
    {
     "data": {
      "image/png": "[encoded data removed]",
      "text/plain": [
       "<Figure size 432x288 with 1 Axes>"
      ]
     },
     "metadata": {
      "needs_background": "light"
     },
     "output_type": "display_data"
    }
   ],
   "source": [
    "plt.plot(range(6), X[0], marker='x')\n",
    "plt.plot(range(6), X[1], marker='x')\n",
    "plt.plot(range(6), X[2], marker='x')\n",
    "plt.plot(range(6), X[3], marker='x')\n",
    "plt.plot(range(6), X[4], marker='x')\n",
    "plt.plot(range(6), X[5], marker='x')\n",
    "plt.plot(range(6), X[6], marker='x')\n",
    "plt.plot(range(6), X[7], marker='x')\n",
    "plt.plot(range(6), X[8], marker='x')\n",
    "plt.show()"
   ]
  },
  {
   "cell_type": "code",
   "execution_count": 4,
   "metadata": {},
   "outputs": [
    {
     "data": {
      "text/plain": [
       "torch.Size([9, 1, 6])"
      ]
     },
     "execution_count": 4,
     "metadata": {},
     "output_type": "execute_result"
    }
   ],
   "source": [
    "dataset = torch.tensor(X).unsqueeze(1).to(torch.float)\n",
    "dataset.shape"
   ]
  },
  {
   "cell_type": "code",
   "execution_count": 5,
   "metadata": {},
   "outputs": [],
   "source": [
    "class Encoder(nn.Module):\n",
    "    def __init__(self) -> None:\n",
    "        super().__init__()\n",
    "        self.cnn = nn.Conv1d(1,1,3,1)\n",
    "        self.max_pool = nn.MaxPool1d(2,1)\n",
    "\n",
    "    def forward(self, x):\n",
    "        return self.max_pool(F.relu(self.cnn(x)))\n",
    "\n",
    "class Decoder(nn.Module):\n",
    "    def __init__(self) -> None:\n",
    "        super().__init__()\n",
    "        # Make each time series have 4 elements\n",
    "        self.upsample = nn.Upsample(size=(4,))\n",
    "        self.decoder = nn.ConvTranspose1d(1,1,3,1)\n",
    "    \n",
    "    def forward(self,x):\n",
    "        x = self.upsample(x)\n",
    "        return F.relu(self.decoder(x))\n",
    "\n",
    "\n",
    "class TAE(nn.Module):\n",
    "    def __init__(self, encoder, decoder) -> None:\n",
    "        super().__init__()\n",
    "        self.encoder = encoder \n",
    "        self.decoder = decoder \n",
    "\n",
    "    def forward(self, x):\n",
    "        l = self.encoder(x)\n",
    "        x_prime = self.decoder(l)\n",
    "        return l, x_prime"
   ]
  },
  {
   "cell_type": "code",
   "execution_count": 6,
   "metadata": {},
   "outputs": [],
   "source": [
    "encoder = Encoder()\n",
    "decoder = Decoder()\n",
    "ae = TAE(encoder, decoder)"
   ]
  },
  {
   "cell_type": "code",
   "execution_count": 7,
   "metadata": {},
   "outputs": [],
   "source": [
    "optimizer = optim.Adam(ae.parameters(), lr=0.001)\n",
    "criterion = nn.MSELoss()"
   ]
  },
  {
   "cell_type": "code",
   "execution_count": 8,
   "metadata": {},
   "outputs": [
    {
     "name": "stdout",
     "output_type": "stream",
     "text": [
      "3.6056737899780273\n",
      "1.8359687328338623\n",
      "1.2873766422271729\n",
      "1.246695876121521\n",
      "1.223571538925171\n",
      "1.2015820741653442\n",
      "1.1811165809631348\n",
      "1.1622512340545654\n",
      "1.1407904624938965\n",
      "0.9165183305740356\n",
      "0.7339822053909302\n",
      "0.6279877424240112\n",
      "0.554238498210907\n",
      "0.4982603192329407\n",
      "0.45370030403137207\n",
      "0.41723036766052246\n",
      "0.38685324788093567\n",
      "0.3612176477909088\n",
      "0.33930644392967224\n",
      "0.3202913701534271\n",
      "0.3034685552120209\n",
      "0.28823721408843994\n",
      "0.27409785985946655\n",
      "0.2606549859046936\n",
      "0.24761761724948883\n",
      "0.23479562997817993\n",
      "0.22209149599075317\n",
      "0.20948924124240875\n",
      "0.19704033434391022\n",
      "0.18484504520893097\n",
      "0.17303162813186646\n",
      "0.16261816024780273\n",
      "0.1604636311531067\n",
      "0.1592605710029602\n",
      "0.15850257873535156\n",
      "0.15797469019889832\n",
      "0.1575668901205063\n",
      "0.15722522139549255\n",
      "0.15692441165447235\n",
      "0.15665321052074432\n",
      "0.15640699863433838\n",
      "0.1561838537454605\n",
      "0.1559828519821167\n",
      "0.1558033674955368\n",
      "0.15564486384391785\n",
      "0.15550638735294342\n",
      "0.15538695454597473\n",
      "0.15528523921966553\n",
      "0.15519979596138\n",
      "0.15512898564338684\n",
      "0.15507125854492188\n",
      "0.15502484142780304\n",
      "0.1549881100654602\n",
      "0.1549595594406128\n",
      "0.154937744140625\n",
      "0.15492135286331177\n",
      "0.15490925312042236\n",
      "0.15490055084228516\n",
      "0.1548943668603897\n",
      "0.15489009022712708\n",
      "0.15488716959953308\n",
      "0.15488527715206146\n",
      "0.15488404035568237\n",
      "0.1548832505941391\n",
      "0.15488280355930328\n",
      "0.1548825055360794\n",
      "0.15488234162330627\n",
      "0.15488223731517792\n",
      "0.15488220751285553\n",
      "0.15488217771053314\n",
      "0.15488217771053314\n",
      "0.15488216280937195\n",
      "0.15488213300704956\n",
      "0.15488214790821075\n",
      "0.15488216280937195\n",
      "0.15488214790821075\n",
      "0.15488216280937195\n",
      "0.15488213300704956\n",
      "0.15488213300704956\n",
      "0.15488216280937195\n",
      "0.15488217771053314\n",
      "0.15488216280937195\n",
      "0.15488216280937195\n",
      "0.15488213300704956\n",
      "0.15488211810588837\n",
      "0.15488211810588837\n",
      "0.15488216280937195\n",
      "0.15488216280937195\n",
      "0.15488216280937195\n",
      "0.15488216280937195\n",
      "0.15488216280937195\n",
      "0.15488216280937195\n",
      "0.15488217771053314\n",
      "0.15488214790821075\n",
      "0.15488216280937195\n",
      "0.15488214790821075\n",
      "0.15488217771053314\n",
      "0.15488216280937195\n",
      "0.15488216280937195\n",
      "0.15488214790821075\n",
      "0.15488217771053314\n",
      "0.15488216280937195\n",
      "0.15488214790821075\n",
      "0.15488211810588837\n",
      "0.15488213300704956\n",
      "0.15488216280937195\n",
      "0.15488217771053314\n",
      "0.15488217771053314\n",
      "0.15488214790821075\n",
      "0.15488214790821075\n",
      "0.15488220751285553\n",
      "0.15488220751285553\n",
      "0.15488216280937195\n",
      "0.15488214790821075\n",
      "0.15488217771053314\n",
      "0.15488214790821075\n",
      "0.15488217771053314\n",
      "0.15488217771053314\n",
      "0.15488214790821075\n",
      "0.15488217771053314\n",
      "0.15488214790821075\n",
      "0.15488214790821075\n",
      "0.15488220751285553\n",
      "0.15488216280937195\n",
      "0.15488213300704956\n",
      "0.15488213300704956\n",
      "0.15488213300704956\n",
      "0.15488213300704956\n",
      "0.15488213300704956\n",
      "0.15488213300704956\n",
      "0.15488213300704956\n",
      "0.15488213300704956\n",
      "0.15488213300704956\n",
      "0.15488213300704956\n",
      "0.15488213300704956\n",
      "0.15488213300704956\n",
      "0.15488213300704956\n",
      "0.15488213300704956\n",
      "0.15488213300704956\n",
      "0.15488213300704956\n",
      "0.15488213300704956\n",
      "0.15488213300704956\n",
      "0.15488213300704956\n",
      "0.15488213300704956\n",
      "0.15488213300704956\n",
      "0.15488213300704956\n",
      "0.15488213300704956\n",
      "0.15488213300704956\n",
      "0.15488213300704956\n",
      "0.15488213300704956\n",
      "0.15488213300704956\n",
      "0.15488213300704956\n",
      "0.15488213300704956\n",
      "0.15488213300704956\n",
      "0.15488213300704956\n",
      "0.15488213300704956\n",
      "0.15488213300704956\n",
      "0.15488213300704956\n",
      "0.15488213300704956\n",
      "0.15488213300704956\n",
      "0.15488213300704956\n",
      "0.15488213300704956\n",
      "0.15488213300704956\n",
      "0.15488213300704956\n",
      "0.15488213300704956\n",
      "0.15488213300704956\n",
      "0.15488213300704956\n",
      "0.15488213300704956\n",
      "0.15488213300704956\n",
      "0.15488213300704956\n",
      "0.15488213300704956\n",
      "0.15488213300704956\n",
      "0.15488213300704956\n",
      "0.15488213300704956\n",
      "0.15488213300704956\n",
      "0.15488213300704956\n",
      "0.15488213300704956\n",
      "0.15488213300704956\n",
      "0.15488213300704956\n",
      "0.15488213300704956\n",
      "0.15488213300704956\n",
      "0.15488213300704956\n",
      "0.15488213300704956\n",
      "0.15488213300704956\n",
      "0.15488213300704956\n",
      "0.15488213300704956\n",
      "0.15488213300704956\n",
      "0.15488213300704956\n",
      "0.15488213300704956\n",
      "0.15488213300704956\n",
      "0.15488213300704956\n",
      "0.15488213300704956\n",
      "0.15488213300704956\n",
      "0.15488213300704956\n",
      "0.15488213300704956\n",
      "0.15488213300704956\n",
      "0.15488213300704956\n",
      "0.15488213300704956\n",
      "0.15488213300704956\n",
      "0.15488213300704956\n",
      "0.15488213300704956\n",
      "0.15488213300704956\n",
      "0.15488213300704956\n",
      "0.15488213300704956\n",
      "0.15488213300704956\n",
      "0.15488213300704956\n",
      "0.15488213300704956\n",
      "0.15488213300704956\n",
      "0.15488213300704956\n",
      "0.15488213300704956\n",
      "0.15488213300704956\n",
      "0.15488213300704956\n",
      "0.15488213300704956\n",
      "0.15488213300704956\n",
      "0.15488213300704956\n",
      "0.15488213300704956\n",
      "0.15488213300704956\n",
      "0.15488213300704956\n",
      "0.15488213300704956\n",
      "0.15488213300704956\n",
      "0.15488213300704956\n",
      "0.15488213300704956\n",
      "0.15488213300704956\n",
      "0.15488213300704956\n",
      "0.15488213300704956\n",
      "0.15488213300704956\n",
      "0.15488213300704956\n",
      "0.15488213300704956\n",
      "0.15488213300704956\n",
      "0.15488213300704956\n",
      "0.15488213300704956\n",
      "0.15488213300704956\n",
      "0.15488213300704956\n",
      "0.15488213300704956\n",
      "0.15488213300704956\n",
      "0.15488213300704956\n",
      "0.15488213300704956\n",
      "0.15488213300704956\n",
      "0.15488213300704956\n",
      "0.15488213300704956\n",
      "0.15488213300704956\n",
      "0.15488213300704956\n",
      "0.15488213300704956\n",
      "0.15488213300704956\n",
      "0.15488213300704956\n",
      "0.15488213300704956\n",
      "0.15488213300704956\n",
      "0.15488213300704956\n",
      "0.15488213300704956\n",
      "0.15488213300704956\n",
      "0.15488213300704956\n",
      "0.15488213300704956\n",
      "0.15488213300704956\n",
      "0.15488213300704956\n",
      "0.15488213300704956\n",
      "0.15488213300704956\n",
      "0.15488213300704956\n",
      "0.15488213300704956\n",
      "0.15488213300704956\n",
      "0.15488213300704956\n",
      "0.15488213300704956\n",
      "0.15488213300704956\n",
      "0.15488213300704956\n",
      "0.15488213300704956\n",
      "0.15488213300704956\n",
      "0.15488213300704956\n",
      "0.15488213300704956\n",
      "0.15488213300704956\n",
      "0.15488213300704956\n",
      "0.15488213300704956\n",
      "0.15488213300704956\n",
      "0.15488213300704956\n",
      "0.15488213300704956\n",
      "0.15488213300704956\n",
      "0.15488213300704956\n",
      "0.15488213300704956\n",
      "0.15488213300704956\n",
      "0.15488213300704956\n",
      "0.15488213300704956\n",
      "0.15488213300704956\n",
      "0.15488213300704956\n",
      "0.15488213300704956\n",
      "0.15488213300704956\n",
      "0.15488213300704956\n",
      "0.15488213300704956\n",
      "0.15488213300704956\n",
      "0.15488213300704956\n",
      "0.15488213300704956\n",
      "0.15488213300704956\n",
      "0.15488213300704956\n",
      "0.15488213300704956\n",
      "0.15488213300704956\n",
      "0.15488213300704956\n",
      "0.15488213300704956\n",
      "0.15488213300704956\n",
      "0.15488213300704956\n",
      "0.15488213300704956\n",
      "0.15488213300704956\n",
      "0.15488213300704956\n",
      "0.15488213300704956\n",
      "0.15488213300704956\n",
      "0.15488213300704956\n",
      "0.15488213300704956\n",
      "0.15488213300704956\n",
      "0.15488213300704956\n",
      "0.15488213300704956\n",
      "0.15488213300704956\n",
      "0.15488213300704956\n",
      "0.15488213300704956\n",
      "0.15488213300704956\n",
      "0.15488213300704956\n",
      "0.15488213300704956\n",
      "0.15488213300704956\n",
      "0.15488213300704956\n",
      "0.15488213300704956\n",
      "0.15488213300704956\n",
      "0.15488213300704956\n",
      "0.15488213300704956\n",
      "0.15488213300704956\n",
      "0.15488213300704956\n",
      "0.15488213300704956\n",
      "0.15488213300704956\n",
      "0.15488213300704956\n",
      "0.15488213300704956\n",
      "0.15488213300704956\n",
      "0.15488213300704956\n",
      "0.15488213300704956\n",
      "0.15488213300704956\n",
      "0.15488213300704956\n",
      "0.15488213300704956\n",
      "0.15488213300704956\n",
      "0.15488213300704956\n",
      "0.15488213300704956\n",
      "0.15488213300704956\n",
      "0.15488213300704956\n",
      "0.15488213300704956\n",
      "0.15488213300704956\n",
      "0.15488213300704956\n",
      "0.15488213300704956\n",
      "0.15488213300704956\n",
      "0.15488213300704956\n",
      "0.15488213300704956\n",
      "0.15488213300704956\n",
      "0.15488213300704956\n",
      "0.15488213300704956\n",
      "0.15488213300704956\n",
      "0.15488213300704956\n",
      "0.15488213300704956\n",
      "0.15488213300704956\n",
      "0.15488213300704956\n",
      "0.15488213300704956\n",
      "0.15488213300704956\n",
      "0.15488213300704956\n",
      "0.15488213300704956\n",
      "0.15488213300704956\n",
      "0.15488213300704956\n",
      "0.15488213300704956\n",
      "0.15488213300704956\n",
      "0.15488213300704956\n",
      "0.15488213300704956\n",
      "0.15488213300704956\n",
      "0.15488213300704956\n",
      "0.15488213300704956\n",
      "0.15488213300704956\n",
      "0.15488213300704956\n",
      "0.15488213300704956\n",
      "0.15488213300704956\n",
      "0.15488213300704956\n",
      "0.15488213300704956\n",
      "0.15488213300704956\n",
      "0.15488213300704956\n",
      "0.15488213300704956\n",
      "0.15488213300704956\n",
      "0.15488213300704956\n",
      "0.15488213300704956\n",
      "0.15488213300704956\n",
      "0.15488213300704956\n",
      "0.15488213300704956\n",
      "0.15488213300704956\n",
      "0.15488213300704956\n",
      "0.15488213300704956\n",
      "0.15488213300704956\n",
      "0.15488213300704956\n",
      "0.15488213300704956\n",
      "0.15488213300704956\n",
      "0.15488213300704956\n",
      "0.15488213300704956\n",
      "0.15488213300704956\n",
      "0.15488213300704956\n",
      "0.15488213300704956\n",
      "0.15488213300704956\n",
      "0.15488213300704956\n",
      "0.15488213300704956\n",
      "0.15488213300704956\n",
      "0.15488213300704956\n",
      "0.15488213300704956\n",
      "0.15488213300704956\n",
      "0.15488213300704956\n",
      "0.15488213300704956\n",
      "0.15488213300704956\n",
      "0.15488213300704956\n",
      "0.15488213300704956\n",
      "0.15488213300704956\n",
      "0.15488213300704956\n",
      "0.15488213300704956\n",
      "0.15488213300704956\n",
      "0.15488213300704956\n",
      "0.15488213300704956\n",
      "0.15488213300704956\n",
      "0.15488213300704956\n",
      "0.15488213300704956\n",
      "0.15488213300704956\n",
      "0.15488213300704956\n",
      "0.15488213300704956\n",
      "0.15488213300704956\n",
      "0.15488213300704956\n",
      "0.15488213300704956\n",
      "0.15488213300704956\n",
      "0.15488213300704956\n",
      "0.15488213300704956\n",
      "0.15488213300704956\n",
      "0.15488213300704956\n",
      "0.15488213300704956\n",
      "0.15488213300704956\n",
      "0.15488213300704956\n",
      "0.15488213300704956\n",
      "0.15488213300704956\n",
      "0.15488213300704956\n",
      "0.15488213300704956\n",
      "0.15488213300704956\n",
      "0.15488213300704956\n",
      "0.15488213300704956\n",
      "0.15488213300704956\n",
      "0.15488213300704956\n",
      "0.15488213300704956\n",
      "0.15488213300704956\n",
      "0.15488213300704956\n",
      "0.15488213300704956\n",
      "0.15488213300704956\n",
      "0.15488213300704956\n",
      "0.15488213300704956\n",
      "0.15488213300704956\n",
      "0.15488213300704956\n",
      "0.15488213300704956\n",
      "0.15488213300704956\n",
      "0.15488213300704956\n",
      "0.15488213300704956\n",
      "0.15488213300704956\n",
      "0.15488213300704956\n",
      "0.15488213300704956\n",
      "0.15488213300704956\n",
      "0.15488213300704956\n",
      "0.15488213300704956\n",
      "0.15488213300704956\n",
      "0.15488213300704956\n",
      "0.15488213300704956\n",
      "0.15488213300704956\n",
      "0.15488213300704956\n",
      "0.15488213300704956\n",
      "0.15488213300704956\n",
      "0.15488213300704956\n",
      "0.15488213300704956\n",
      "0.15488213300704956\n",
      "0.15488213300704956\n",
      "0.15488213300704956\n",
      "0.15488213300704956\n",
      "0.15488213300704956\n",
      "0.15488213300704956\n",
      "0.15488213300704956\n",
      "0.15488213300704956\n",
      "0.15488213300704956\n",
      "0.15488213300704956\n",
      "0.15488213300704956\n",
      "0.15488213300704956\n",
      "0.15488213300704956\n",
      "0.15488213300704956\n",
      "0.15488213300704956\n",
      "0.15488213300704956\n",
      "0.15488213300704956\n",
      "0.15488213300704956\n",
      "0.15488213300704956\n",
      "0.15488213300704956\n",
      "0.15488213300704956\n",
      "0.15488213300704956\n",
      "0.15488213300704956\n",
      "0.15488213300704956\n",
      "0.15488213300704956\n",
      "0.15488213300704956\n",
      "0.15488213300704956\n",
      "0.15488213300704956\n",
      "0.15488213300704956\n",
      "0.15488213300704956\n",
      "0.15488213300704956\n",
      "0.15488213300704956\n",
      "0.15488213300704956\n",
      "0.15488213300704956\n",
      "0.15488213300704956\n",
      "0.15488213300704956\n",
      "0.15488213300704956\n",
      "0.15488213300704956\n",
      "0.15488213300704956\n",
      "0.15488213300704956\n",
      "0.15488213300704956\n",
      "0.15488213300704956\n",
      "0.15488213300704956\n",
      "0.15488213300704956\n",
      "0.15488213300704956\n",
      "0.15488213300704956\n",
      "0.15488213300704956\n",
      "0.15488213300704956\n",
      "0.15488213300704956\n",
      "0.15488213300704956\n",
      "0.15488213300704956\n",
      "0.15488213300704956\n",
      "0.15488213300704956\n",
      "0.15488213300704956\n",
      "0.15488213300704956\n",
      "0.15488213300704956\n",
      "0.15488213300704956\n",
      "0.15488213300704956\n",
      "0.15488213300704956\n",
      "0.15488213300704956\n",
      "0.15488213300704956\n",
      "0.15488213300704956\n",
      "0.15488213300704956\n",
      "0.15488213300704956\n",
      "0.15488213300704956\n",
      "0.15488213300704956\n",
      "0.15488213300704956\n",
      "0.15488213300704956\n",
      "0.15488213300704956\n",
      "0.15488213300704956\n",
      "0.15488213300704956\n",
      "0.15488213300704956\n",
      "0.15488213300704956\n",
      "0.15488213300704956\n",
      "0.15488213300704956\n",
      "0.15488213300704956\n",
      "0.15488213300704956\n",
      "0.15488213300704956\n",
      "0.15488213300704956\n",
      "0.15488213300704956\n",
      "0.15488213300704956\n",
      "0.15488213300704956\n",
      "0.15488213300704956\n",
      "0.15488213300704956\n",
      "0.15488213300704956\n",
      "0.15488213300704956\n",
      "0.15488213300704956\n",
      "0.15488213300704956\n",
      "0.15488213300704956\n",
      "0.15488213300704956\n",
      "0.15488213300704956\n",
      "0.15488213300704956\n",
      "0.15488213300704956\n",
      "0.15488213300704956\n",
      "0.15488213300704956\n",
      "0.15488213300704956\n",
      "0.15488213300704956\n",
      "0.15488213300704956\n",
      "0.15488213300704956\n",
      "0.15488213300704956\n",
      "0.15488213300704956\n",
      "0.15488213300704956\n",
      "0.15488213300704956\n",
      "0.15488213300704956\n",
      "0.15488213300704956\n",
      "0.15488213300704956\n",
      "0.15488213300704956\n",
      "0.15488213300704956\n",
      "0.15488213300704956\n",
      "0.15488213300704956\n",
      "0.15488213300704956\n",
      "0.15488213300704956\n",
      "0.15488213300704956\n",
      "0.15488213300704956\n",
      "0.15488213300704956\n",
      "0.15488213300704956\n",
      "0.15488213300704956\n",
      "0.15488213300704956\n",
      "0.15488213300704956\n",
      "0.15488213300704956\n",
      "0.15488213300704956\n",
      "0.15488213300704956\n",
      "0.15488213300704956\n",
      "0.15488213300704956\n",
      "0.15488213300704956\n",
      "0.15488213300704956\n",
      "0.15488213300704956\n",
      "0.15488213300704956\n",
      "0.15488213300704956\n",
      "0.15488213300704956\n",
      "0.15488213300704956\n",
      "0.15488213300704956\n",
      "0.15488213300704956\n",
      "0.15488213300704956\n",
      "0.15488213300704956\n",
      "0.15488213300704956\n",
      "0.15488213300704956\n",
      "0.15488213300704956\n",
      "0.15488213300704956\n",
      "0.15488213300704956\n",
      "0.15488213300704956\n",
      "0.15488213300704956\n",
      "0.15488213300704956\n",
      "0.15488213300704956\n",
      "0.15488213300704956\n",
      "0.15488213300704956\n",
      "0.15488213300704956\n",
      "0.15488213300704956\n",
      "0.15488213300704956\n",
      "0.15488213300704956\n",
      "0.15488213300704956\n",
      "0.15488213300704956\n",
      "0.15488213300704956\n",
      "0.15488213300704956\n",
      "0.15488213300704956\n",
      "0.15488213300704956\n",
      "0.15488213300704956\n",
      "0.15488213300704956\n",
      "0.15488213300704956\n",
      "0.15488213300704956\n",
      "0.15488213300704956\n",
      "0.15488213300704956\n",
      "0.15488213300704956\n",
      "0.15488213300704956\n",
      "0.15488213300704956\n",
      "0.15488213300704956\n",
      "0.15488213300704956\n",
      "0.15488213300704956\n",
      "0.15488213300704956\n",
      "0.15488213300704956\n",
      "0.15488213300704956\n",
      "0.15488213300704956\n",
      "0.15488213300704956\n",
      "0.15488213300704956\n",
      "0.15488213300704956\n",
      "0.15488213300704956\n",
      "0.15488213300704956\n",
      "0.15488213300704956\n",
      "0.15488213300704956\n",
      "0.15488213300704956\n",
      "0.15488213300704956\n",
      "0.15488213300704956\n",
      "0.15488213300704956\n",
      "0.15488213300704956\n",
      "0.15488213300704956\n",
      "0.15488213300704956\n",
      "0.15488213300704956\n",
      "0.15488213300704956\n",
      "0.15488213300704956\n",
      "0.15488213300704956\n",
      "0.15488213300704956\n",
      "0.15488213300704956\n",
      "0.15488213300704956\n",
      "0.15488213300704956\n",
      "0.15488213300704956\n",
      "0.15488213300704956\n",
      "0.15488213300704956\n",
      "0.15488213300704956\n",
      "0.15488213300704956\n",
      "0.15488213300704956\n",
      "0.15488213300704956\n",
      "0.15488213300704956\n",
      "0.15488213300704956\n",
      "0.15488213300704956\n",
      "0.15488213300704956\n",
      "0.15488213300704956\n",
      "0.15488213300704956\n",
      "0.15488213300704956\n",
      "0.15488213300704956\n",
      "0.15488213300704956\n",
      "0.15488213300704956\n",
      "0.15488213300704956\n",
      "0.15488213300704956\n",
      "0.15488213300704956\n",
      "0.15488213300704956\n",
      "0.15488213300704956\n",
      "0.15488213300704956\n",
      "0.15488213300704956\n",
      "0.15488213300704956\n",
      "0.15488213300704956\n",
      "0.15488213300704956\n",
      "0.15488213300704956\n",
      "0.15488213300704956\n",
      "0.15488213300704956\n",
      "0.15488213300704956\n",
      "0.15488213300704956\n",
      "0.15488213300704956\n",
      "0.15488213300704956\n",
      "0.15488213300704956\n",
      "0.15488213300704956\n",
      "0.15488213300704956\n",
      "0.15488213300704956\n",
      "0.15488213300704956\n",
      "0.15488213300704956\n",
      "0.15488213300704956\n",
      "0.15488213300704956\n",
      "0.15488213300704956\n",
      "0.15488213300704956\n",
      "0.15488213300704956\n",
      "0.15488213300704956\n",
      "0.15488213300704956\n",
      "0.15488213300704956\n",
      "0.15488213300704956\n",
      "0.15488213300704956\n",
      "0.15488213300704956\n",
      "0.15488213300704956\n",
      "0.15488213300704956\n",
      "0.15488213300704956\n",
      "0.15488213300704956\n",
      "0.15488213300704956\n",
      "0.15488213300704956\n",
      "0.15488213300704956\n",
      "0.15488213300704956\n",
      "0.15488213300704956\n",
      "0.15488213300704956\n",
      "0.15488213300704956\n",
      "0.15488213300704956\n"
     ]
    },
    {
     "ename": "KeyboardInterrupt",
     "evalue": "",
     "output_type": "error",
     "traceback": [
      "\u001b[0;31m---------------------------------------------------------------------------\u001b[0m",
      "\u001b[0;31mKeyboardInterrupt\u001b[0m                         Traceback (most recent call last)",
      "\u001b[1;32m/Users/tristan/Documents/CS/Research/DTC/exp_1 copy.ipynb Cell 8\u001b[0m in \u001b[0;36m<cell line: 3>\u001b[0;34m()\u001b[0m\n\u001b[1;32m      <a href='vscode-notebook-cell:/Users/tristan/Documents/CS/Research/DTC/exp_1%20copy.ipynb#X10sZmlsZQ%3D%3D?line=6'>7</a>\u001b[0m optimizer\u001b[39m.\u001b[39mzero_grad()\n\u001b[1;32m      <a href='vscode-notebook-cell:/Users/tristan/Documents/CS/Research/DTC/exp_1%20copy.ipynb#X10sZmlsZQ%3D%3D?line=7'>8</a>\u001b[0m loss\u001b[39m.\u001b[39mbackward()\n\u001b[0;32m----> <a href='vscode-notebook-cell:/Users/tristan/Documents/CS/Research/DTC/exp_1%20copy.ipynb#X10sZmlsZQ%3D%3D?line=8'>9</a>\u001b[0m optimizer\u001b[39m.\u001b[39;49mstep()\n\u001b[1;32m     <a href='vscode-notebook-cell:/Users/tristan/Documents/CS/Research/DTC/exp_1%20copy.ipynb#X10sZmlsZQ%3D%3D?line=10'>11</a>\u001b[0m \u001b[39m# ls.append(l.detach().numpy())\u001b[39;00m\n\u001b[1;32m     <a href='vscode-notebook-cell:/Users/tristan/Documents/CS/Research/DTC/exp_1%20copy.ipynb#X10sZmlsZQ%3D%3D?line=12'>13</a>\u001b[0m \u001b[39mif\u001b[39;00m i \u001b[39m%\u001b[39m \u001b[39m100\u001b[39m \u001b[39m==\u001b[39m \u001b[39m0\u001b[39m:\n",
      "File \u001b[0;32m~/miniconda3/envs/deep/lib/python3.9/site-packages/torch/optim/optimizer.py:113\u001b[0m, in \u001b[0;36mOptimizer._hook_for_profile.<locals>.profile_hook_step.<locals>.wrapper\u001b[0;34m(*args, **kwargs)\u001b[0m\n\u001b[1;32m    111\u001b[0m profile_name \u001b[39m=\u001b[39m \u001b[39m\"\u001b[39m\u001b[39mOptimizer.step#\u001b[39m\u001b[39m{}\u001b[39;00m\u001b[39m.step\u001b[39m\u001b[39m\"\u001b[39m\u001b[39m.\u001b[39mformat(obj\u001b[39m.\u001b[39m\u001b[39m__class__\u001b[39m\u001b[39m.\u001b[39m\u001b[39m__name__\u001b[39m)\n\u001b[1;32m    112\u001b[0m \u001b[39mwith\u001b[39;00m torch\u001b[39m.\u001b[39mautograd\u001b[39m.\u001b[39mprofiler\u001b[39m.\u001b[39mrecord_function(profile_name):\n\u001b[0;32m--> 113\u001b[0m     \u001b[39mreturn\u001b[39;00m func(\u001b[39m*\u001b[39;49margs, \u001b[39m*\u001b[39;49m\u001b[39m*\u001b[39;49mkwargs)\n",
      "File \u001b[0;32m~/miniconda3/envs/deep/lib/python3.9/site-packages/torch/autograd/grad_mode.py:27\u001b[0m, in \u001b[0;36m_DecoratorContextManager.__call__.<locals>.decorate_context\u001b[0;34m(*args, **kwargs)\u001b[0m\n\u001b[1;32m     24\u001b[0m \u001b[39m@functools\u001b[39m\u001b[39m.\u001b[39mwraps(func)\n\u001b[1;32m     25\u001b[0m \u001b[39mdef\u001b[39;00m \u001b[39mdecorate_context\u001b[39m(\u001b[39m*\u001b[39margs, \u001b[39m*\u001b[39m\u001b[39m*\u001b[39mkwargs):\n\u001b[1;32m     26\u001b[0m     \u001b[39mwith\u001b[39;00m \u001b[39mself\u001b[39m\u001b[39m.\u001b[39mclone():\n\u001b[0;32m---> 27\u001b[0m         \u001b[39mreturn\u001b[39;00m func(\u001b[39m*\u001b[39;49margs, \u001b[39m*\u001b[39;49m\u001b[39m*\u001b[39;49mkwargs)\n",
      "File \u001b[0;32m~/miniconda3/envs/deep/lib/python3.9/site-packages/torch/optim/adam.py:157\u001b[0m, in \u001b[0;36mAdam.step\u001b[0;34m(self, closure)\u001b[0m\n\u001b[1;32m    153\u001b[0m                 max_exp_avg_sqs\u001b[39m.\u001b[39mappend(state[\u001b[39m'\u001b[39m\u001b[39mmax_exp_avg_sq\u001b[39m\u001b[39m'\u001b[39m])\n\u001b[1;32m    155\u001b[0m             state_steps\u001b[39m.\u001b[39mappend(state[\u001b[39m'\u001b[39m\u001b[39mstep\u001b[39m\u001b[39m'\u001b[39m])\n\u001b[0;32m--> 157\u001b[0m     adam(params_with_grad,\n\u001b[1;32m    158\u001b[0m          grads,\n\u001b[1;32m    159\u001b[0m          exp_avgs,\n\u001b[1;32m    160\u001b[0m          exp_avg_sqs,\n\u001b[1;32m    161\u001b[0m          max_exp_avg_sqs,\n\u001b[1;32m    162\u001b[0m          state_steps,\n\u001b[1;32m    163\u001b[0m          amsgrad\u001b[39m=\u001b[39;49mgroup[\u001b[39m'\u001b[39;49m\u001b[39mamsgrad\u001b[39;49m\u001b[39m'\u001b[39;49m],\n\u001b[1;32m    164\u001b[0m          beta1\u001b[39m=\u001b[39;49mbeta1,\n\u001b[1;32m    165\u001b[0m          beta2\u001b[39m=\u001b[39;49mbeta2,\n\u001b[1;32m    166\u001b[0m          lr\u001b[39m=\u001b[39;49mgroup[\u001b[39m'\u001b[39;49m\u001b[39mlr\u001b[39;49m\u001b[39m'\u001b[39;49m],\n\u001b[1;32m    167\u001b[0m          weight_decay\u001b[39m=\u001b[39;49mgroup[\u001b[39m'\u001b[39;49m\u001b[39mweight_decay\u001b[39;49m\u001b[39m'\u001b[39;49m],\n\u001b[1;32m    168\u001b[0m          eps\u001b[39m=\u001b[39;49mgroup[\u001b[39m'\u001b[39;49m\u001b[39meps\u001b[39;49m\u001b[39m'\u001b[39;49m],\n\u001b[1;32m    169\u001b[0m          maximize\u001b[39m=\u001b[39;49mgroup[\u001b[39m'\u001b[39;49m\u001b[39mmaximize\u001b[39;49m\u001b[39m'\u001b[39;49m],\n\u001b[1;32m    170\u001b[0m          foreach\u001b[39m=\u001b[39;49mgroup[\u001b[39m'\u001b[39;49m\u001b[39mforeach\u001b[39;49m\u001b[39m'\u001b[39;49m],\n\u001b[1;32m    171\u001b[0m          capturable\u001b[39m=\u001b[39;49mgroup[\u001b[39m'\u001b[39;49m\u001b[39mcapturable\u001b[39;49m\u001b[39m'\u001b[39;49m])\n\u001b[1;32m    173\u001b[0m \u001b[39mreturn\u001b[39;00m loss\n",
      "File \u001b[0;32m~/miniconda3/envs/deep/lib/python3.9/site-packages/torch/optim/adam.py:213\u001b[0m, in \u001b[0;36madam\u001b[0;34m(params, grads, exp_avgs, exp_avg_sqs, max_exp_avg_sqs, state_steps, foreach, capturable, amsgrad, beta1, beta2, lr, weight_decay, eps, maximize)\u001b[0m\n\u001b[1;32m    210\u001b[0m \u001b[39melse\u001b[39;00m:\n\u001b[1;32m    211\u001b[0m     func \u001b[39m=\u001b[39m _single_tensor_adam\n\u001b[0;32m--> 213\u001b[0m func(params,\n\u001b[1;32m    214\u001b[0m      grads,\n\u001b[1;32m    215\u001b[0m      exp_avgs,\n\u001b[1;32m    216\u001b[0m      exp_avg_sqs,\n\u001b[1;32m    217\u001b[0m      max_exp_avg_sqs,\n\u001b[1;32m    218\u001b[0m      state_steps,\n\u001b[1;32m    219\u001b[0m      amsgrad\u001b[39m=\u001b[39;49mamsgrad,\n\u001b[1;32m    220\u001b[0m      beta1\u001b[39m=\u001b[39;49mbeta1,\n\u001b[1;32m    221\u001b[0m      beta2\u001b[39m=\u001b[39;49mbeta2,\n\u001b[1;32m    222\u001b[0m      lr\u001b[39m=\u001b[39;49mlr,\n\u001b[1;32m    223\u001b[0m      weight_decay\u001b[39m=\u001b[39;49mweight_decay,\n\u001b[1;32m    224\u001b[0m      eps\u001b[39m=\u001b[39;49meps,\n\u001b[1;32m    225\u001b[0m      maximize\u001b[39m=\u001b[39;49mmaximize,\n\u001b[1;32m    226\u001b[0m      capturable\u001b[39m=\u001b[39;49mcapturable)\n",
      "File \u001b[0;32m~/miniconda3/envs/deep/lib/python3.9/site-packages/torch/optim/adam.py:307\u001b[0m, in \u001b[0;36m_single_tensor_adam\u001b[0;34m(params, grads, exp_avgs, exp_avg_sqs, max_exp_avg_sqs, state_steps, amsgrad, beta1, beta2, lr, weight_decay, eps, maximize, capturable)\u001b[0m\n\u001b[1;32m    304\u001b[0m \u001b[39melse\u001b[39;00m:\n\u001b[1;32m    305\u001b[0m     denom \u001b[39m=\u001b[39m (exp_avg_sq\u001b[39m.\u001b[39msqrt() \u001b[39m/\u001b[39m bias_correction2_sqrt)\u001b[39m.\u001b[39madd_(eps)\n\u001b[0;32m--> 307\u001b[0m param\u001b[39m.\u001b[39;49maddcdiv_(exp_avg, denom, value\u001b[39m=\u001b[39;49m\u001b[39m-\u001b[39;49mstep_size)\n",
      "\u001b[0;31mKeyboardInterrupt\u001b[0m: "
     ]
    }
   ],
   "source": [
    "ls = []\n",
    "\n",
    "for i in range(10000):\n",
    "    l, x_prime = ae(dataset)\n",
    "    loss = criterion(x_prime, dataset)\n",
    "\n",
    "    optimizer.zero_grad()\n",
    "    loss.backward()\n",
    "    optimizer.step()\n",
    "\n",
    "    # ls.append(l.detach().numpy())\n",
    "    \n",
    "    if i % 100 == 0:\n",
    "        print(loss.item())\n"
   ]
  },
  {
   "cell_type": "code",
   "execution_count": 9,
   "metadata": {},
   "outputs": [],
   "source": [
    "ls = [i.squeeze(1) for i in ls]"
   ]
  },
  {
   "cell_type": "code",
   "execution_count": 10,
   "metadata": {},
   "outputs": [],
   "source": [
    "# for i in range(25):\n",
    "#     for j in range(3):\n",
    "#         plt.plot(range(3), ls[i][0], c='r', alpha=i * 0.01)\n",
    "#         plt.plot(range(3), ls[i][1], c='r', alpha=i * 0.01)\n",
    "#         plt.plot(range(3), ls[i][2], c='r', alpha=i * 0.01)\n",
    "#         plt.plot(range(3), ls[i][3], c='g', alpha=i * 0.01)\n",
    "#         plt.plot(range(3), ls[i][4], c='g', alpha=i * 0.01)\n",
    "#         plt.plot(range(3), ls[i][5], c='g', alpha=i * 0.01)\n",
    "#         plt.plot(range(3), ls[i][6], c='b', alpha=i * 0.01)\n",
    "#         plt.plot(range(3), ls[i][7], c='b', alpha=i * 0.01)\n",
    "#         plt.plot(range(3), ls[i][8], c='b', alpha=i * 0.01)"
   ]
  },
  {
   "cell_type": "code",
   "execution_count": 11,
   "metadata": {},
   "outputs": [],
   "source": [
    "l, x_prime = ae(dataset)"
   ]
  },
  {
   "cell_type": "code",
   "execution_count": 12,
   "metadata": {},
   "outputs": [
    {
     "data": {
      "text/plain": [
       "tensor([[[0.0000, 0.0000, 0.0000]],\n",
       "\n",
       "        [[0.0000, 0.0000, 0.0000]],\n",
       "\n",
       "        [[0.0000, 0.0000, 0.0000]],\n",
       "\n",
       "        [[0.7214, 0.7214, 0.7214]],\n",
       "\n",
       "        [[0.7214, 0.7214, 0.7214]],\n",
       "\n",
       "        [[0.7214, 0.7214, 0.7214]],\n",
       "\n",
       "        [[1.7133, 1.7133, 1.7133]],\n",
       "\n",
       "        [[1.7133, 1.7133, 1.7133]],\n",
       "\n",
       "        [[1.7133, 1.7133, 1.7133]]], grad_fn=<SqueezeBackward1>)"
      ]
     },
     "execution_count": 12,
     "metadata": {},
     "output_type": "execute_result"
    }
   ],
   "source": [
    "l"
   ]
  },
  {
   "cell_type": "code",
   "execution_count": 13,
   "metadata": {},
   "outputs": [
    {
     "data": {
      "text/plain": [
       "array([0, 0, 0, 2, 2, 2, 1, 1, 1], dtype=int32)"
      ]
     },
     "execution_count": 13,
     "metadata": {},
     "output_type": "execute_result"
    }
   ],
   "source": [
    "cs = KMeans(n_clusters=3).fit_predict(l.detach().numpy().squeeze(1))\n",
    "cs"
   ]
  },
  {
   "cell_type": "code",
   "execution_count": 14,
   "metadata": {},
   "outputs": [],
   "source": [
    "centroids = []\n",
    "\n",
    "for i in range(3):\n",
    "    mask = cs == i\n",
    "    centroids.append(l[mask].mean(dim=2).reshape(1, -1))"
   ]
  },
  {
   "cell_type": "code",
   "execution_count": 15,
   "metadata": {},
   "outputs": [],
   "source": [
    "centroids = torch.cat(centroids).detach()"
   ]
  },
  {
   "cell_type": "code",
   "execution_count": 16,
   "metadata": {},
   "outputs": [
    {
     "data": {
      "text/plain": [
       "tensor([[0.0000, 0.0000, 0.0000],\n",
       "        [1.7133, 1.7133, 1.7133],\n",
       "        [0.7214, 0.7214, 0.7214]])"
      ]
     },
     "execution_count": 16,
     "metadata": {},
     "output_type": "execute_result"
    }
   ],
   "source": [
    "centroids"
   ]
  },
  {
   "cell_type": "code",
   "execution_count": 17,
   "metadata": {},
   "outputs": [
    {
     "name": "stderr",
     "output_type": "stream",
     "text": [
      "/var/folders/fg/zrq1rktd2lq738r5z3wc_wt00000gn/T/ipykernel_19050/1839959827.py:1: UserWarning: To copy construct from a tensor, it is recommended to use sourceTensor.clone().detach() or sourceTensor.clone().detach().requires_grad_(True), rather than torch.tensor(sourceTensor).\n",
      "  centroids = torch.tensor(centroids).unsqueeze(1).to(torch.float)\n"
     ]
    },
    {
     "data": {
      "text/plain": [
       "torch.Size([3, 1, 3])"
      ]
     },
     "execution_count": 17,
     "metadata": {},
     "output_type": "execute_result"
    }
   ],
   "source": [
    "centroids = torch.tensor(centroids).unsqueeze(1).to(torch.float)\n",
    "centroids.shape"
   ]
  },
  {
   "cell_type": "code",
   "execution_count": 18,
   "metadata": {},
   "outputs": [],
   "source": [
    "# for i in range(25):\n",
    "#     for j in range(3):\n",
    "#         plt.plot(range(3), ls[i][0], c='r', alpha=i * 0.01)\n",
    "#         plt.plot(range(3), ls[i][1], c='g', alpha=i * 0.01)\n",
    "#         plt.plot(range(3), ls[i][2], c='b', alpha=i * 0.01)\n",
    "\n",
    "# plt.plot(range(3), centroids[0], c='black')\n",
    "# plt.plot(range(3), centroids[1], c='black')\n",
    "# plt.plot(range(3), centroids[2], c='black')\n",
    "# plt.show()"
   ]
  },
  {
   "cell_type": "code",
   "execution_count": 19,
   "metadata": {},
   "outputs": [],
   "source": [
    "class ClusterLayer(nn.Module):\n",
    "    def __init__(self, encoder, centroids) -> None:\n",
    "        super().__init__()\n",
    "        self.encoder = encoder \n",
    "        self.centroids = nn.Parameter(centroids)\n",
    "    \n",
    "    def euclidean_distance(self, x, y):\n",
    "        dists = torch.zeros(9,3)\n",
    "\n",
    "        for i in range(9):\n",
    "            d = []\n",
    "            for j in range(3):\n",
    "                a = x[i].flatten()\n",
    "                b = y[j].flatten()\n",
    "                euc = ((a-b)**2).sum()\n",
    "                dists[i][j] = euc\n",
    "        return dists\n",
    "\n",
    "    def students_t_distribution_kernel(self, x, alpha=1):\n",
    "        num = torch.pow((1 + x / alpha), -(alpha + 1) / 2)\n",
    "        denom = num.sum(dim=1).reshape(-1, 1).repeat(1, 3)\n",
    "        return num / denom\n",
    "\n",
    "    def target_distribution(self, Q):\n",
    "        F = Q.sum(dim=0)\n",
    "        num = (Q ** 2) / F\n",
    "        denom = num.sum(dim=1).reshape(-1, 1).repeat(1, Q.shape[-1])\n",
    "        return num / denom\n",
    "\n",
    "    def forward(self, x):\n",
    "        l = self.encoder(x)\n",
    "        D = self.euclidean_distance(l, self.centroids)\n",
    "        Q = self.students_t_distribution_kernel(D)\n",
    "        P = self.target_distribution(Q)\n",
    "        return l, torch.log(Q), torch.log(P)"
   ]
  },
  {
   "cell_type": "code",
   "execution_count": 20,
   "metadata": {},
   "outputs": [],
   "source": [
    "cl = ClusterLayer(encoder=encoder, centroids=centroids)"
   ]
  },
  {
   "cell_type": "code",
   "execution_count": 21,
   "metadata": {},
   "outputs": [],
   "source": [
    "optimizer = optim.SGD(cl.parameters(), lr=0.001)\n",
    "mse = nn.MSELoss()\n",
    "kl = nn.KLDivLoss(reduction='batchmean', log_target=True)"
   ]
  },
  {
   "cell_type": "code",
   "execution_count": 22,
   "metadata": {},
   "outputs": [
    {
     "data": {
      "image/png": "[encoded data removed]",
      "text/plain": [
       "<Figure size 432x288 with 1 Axes>"
      ]
     },
     "metadata": {
      "needs_background": "light"
     },
     "output_type": "display_data"
    },
    {
     "data": {
      "image/png": "[encoded data removed]",
      "text/plain": [
       "<Figure size 432x288 with 1 Axes>"
      ]
     },
     "metadata": {
      "needs_background": "light"
     },
     "output_type": "display_data"
    },
    {
     "data": {
      "image/png": "[encoded data removed]",
      "text/plain": [
       "<Figure size 432x288 with 1 Axes>"
      ]
     },
     "metadata": {
      "needs_background": "light"
     },
     "output_type": "display_data"
    },
    {
     "data": {
      "image/png": "[encoded data removed]",
      "text/plain": [
       "<Figure size 432x288 with 1 Axes>"
      ]
     },
     "metadata": {
      "needs_background": "light"
     },
     "output_type": "display_data"
    },
    {
     "data": {
      "image/png": "[encoded data removed]",
      "text/plain": [
       "<Figure size 432x288 with 1 Axes>"
      ]
     },
     "metadata": {
      "needs_background": "light"
     },
     "output_type": "display_data"
    },
    {
     "data": {
      "image/png": "[encoded data removed]",
      "text/plain": [
       "<Figure size 432x288 with 1 Axes>"
      ]
     },
     "metadata": {
      "needs_background": "light"
     },
     "output_type": "display_data"
    },
    {
     "data": {
      "image/png": "[encoded data removed]",
      "text/plain": [
       "<Figure size 432x288 with 1 Axes>"
      ]
     },
     "metadata": {
      "needs_background": "light"
     },
     "output_type": "display_data"
    },
    {
     "data": {
      "image/png": "[encoded data removed]",
      "text/plain": [
       "<Figure size 432x288 with 1 Axes>"
      ]
     },
     "metadata": {
      "needs_background": "light"
     },
     "output_type": "display_data"
    },
    {
     "data": {
      "image/png": "[encoded data removed]",
      "text/plain": [
       "<Figure size 432x288 with 1 Axes>"
      ]
     },
     "metadata": {
      "needs_background": "light"
     },
     "output_type": "display_data"
    },
    {
     "data": {
      "image/png": "[encoded data removed]",
      "text/plain": [
       "<Figure size 432x288 with 1 Axes>"
      ]
     },
     "metadata": {
      "needs_background": "light"
     },
     "output_type": "display_data"
    },
    {
     "data": {
      "image/png": "[encoded data removed]",
      "text/plain": [
       "<Figure size 432x288 with 1 Axes>"
      ]
     },
     "metadata": {
      "needs_background": "light"
     },
     "output_type": "display_data"
    },
    {
     "data": {
      "image/png": "[encoded data removed]",
      "text/plain": [
       "<Figure size 432x288 with 1 Axes>"
      ]
     },
     "metadata": {
      "needs_background": "light"
     },
     "output_type": "display_data"
    },
    {
     "data": {
      "image/png": "[encoded data removed]",
      "text/plain": [
       "<Figure size 432x288 with 1 Axes>"
      ]
     },
     "metadata": {
      "needs_background": "light"
     },
     "output_type": "display_data"
    },
    {
     "data": {
      "image/png": "[encoded data removed]",
      "text/plain": [
       "<Figure size 432x288 with 1 Axes>"
      ]
     },
     "metadata": {
      "needs_background": "light"
     },
     "output_type": "display_data"
    },
    {
     "data": {
      "image/png": "[encoded data removed]",
      "text/plain": [
       "<Figure size 432x288 with 1 Axes>"
      ]
     },
     "metadata": {
      "needs_background": "light"
     },
     "output_type": "display_data"
    },
    {
     "data": {
      "image/png": "[encoded data removed]",
      "text/plain": [
       "<Figure size 432x288 with 1 Axes>"
      ]
     },
     "metadata": {
      "needs_background": "light"
     },
     "output_type": "display_data"
    },
    {
     "data": {
      "image/png": "[encoded data removed]",
      "text/plain": [
       "<Figure size 432x288 with 1 Axes>"
      ]
     },
     "metadata": {
      "needs_background": "light"
     },
     "output_type": "display_data"
    },
    {
     "data": {
      "image/png": "[encoded data removed]",
      "text/plain": [
       "<Figure size 432x288 with 1 Axes>"
      ]
     },
     "metadata": {
      "needs_background": "light"
     },
     "output_type": "display_data"
    },
    {
     "data": {
      "image/png": "[encoded data removed]",
      "text/plain": [
       "<Figure size 432x288 with 1 Axes>"
      ]
     },
     "metadata": {
      "needs_background": "light"
     },
     "output_type": "display_data"
    },
    {
     "data": {
      "image/png": "[encoded data removed]",
      "text/plain": [
       "<Figure size 432x288 with 1 Axes>"
      ]
     },
     "metadata": {
      "needs_background": "light"
     },
     "output_type": "display_data"
    },
    {
     "data": {
      "image/png": "[encoded data removed]",
      "text/plain": [
       "<Figure size 432x288 with 1 Axes>"
      ]
     },
     "metadata": {
      "needs_background": "light"
     },
     "output_type": "display_data"
    },
    {
     "data": {
      "image/png": "[encoded data removed]",
      "text/plain": [
       "<Figure size 432x288 with 1 Axes>"
      ]
     },
     "metadata": {
      "needs_background": "light"
     },
     "output_type": "display_data"
    },
    {
     "ename": "KeyboardInterrupt",
     "evalue": "",
     "output_type": "error",
     "traceback": [
      "\u001b[0;31m---------------------------------------------------------------------------\u001b[0m",
      "\u001b[0;31mKeyboardInterrupt\u001b[0m                         Traceback (most recent call last)",
      "\u001b[1;32m/Users/tristan/Documents/CS/Research/DTC/exp_1 copy.ipynb Cell 22\u001b[0m in \u001b[0;36m<cell line: 6>\u001b[0;34m()\u001b[0m\n\u001b[1;32m     <a href='vscode-notebook-cell:/Users/tristan/Documents/CS/Research/DTC/exp_1%20copy.ipynb#X30sZmlsZQ%3D%3D?line=12'>13</a>\u001b[0m dtc_loss \u001b[39m=\u001b[39m mse_loss \u001b[39m+\u001b[39m kl_loss\n\u001b[1;32m     <a href='vscode-notebook-cell:/Users/tristan/Documents/CS/Research/DTC/exp_1%20copy.ipynb#X30sZmlsZQ%3D%3D?line=14'>15</a>\u001b[0m optimizer\u001b[39m.\u001b[39mzero_grad()\n\u001b[0;32m---> <a href='vscode-notebook-cell:/Users/tristan/Documents/CS/Research/DTC/exp_1%20copy.ipynb#X30sZmlsZQ%3D%3D?line=15'>16</a>\u001b[0m dtc_loss\u001b[39m.\u001b[39;49mbackward()\n\u001b[1;32m     <a href='vscode-notebook-cell:/Users/tristan/Documents/CS/Research/DTC/exp_1%20copy.ipynb#X30sZmlsZQ%3D%3D?line=16'>17</a>\u001b[0m optimizer\u001b[39m.\u001b[39mstep()\n\u001b[1;32m     <a href='vscode-notebook-cell:/Users/tristan/Documents/CS/Research/DTC/exp_1%20copy.ipynb#X30sZmlsZQ%3D%3D?line=18'>19</a>\u001b[0m mse_data\u001b[39m.\u001b[39mappend(mse_loss\u001b[39m.\u001b[39mitem())\n",
      "File \u001b[0;32m~/miniconda3/envs/deep/lib/python3.9/site-packages/torch/_tensor.py:396\u001b[0m, in \u001b[0;36mTensor.backward\u001b[0;34m(self, gradient, retain_graph, create_graph, inputs)\u001b[0m\n\u001b[1;32m    387\u001b[0m \u001b[39mif\u001b[39;00m has_torch_function_unary(\u001b[39mself\u001b[39m):\n\u001b[1;32m    388\u001b[0m     \u001b[39mreturn\u001b[39;00m handle_torch_function(\n\u001b[1;32m    389\u001b[0m         Tensor\u001b[39m.\u001b[39mbackward,\n\u001b[1;32m    390\u001b[0m         (\u001b[39mself\u001b[39m,),\n\u001b[0;32m   (...)\u001b[0m\n\u001b[1;32m    394\u001b[0m         create_graph\u001b[39m=\u001b[39mcreate_graph,\n\u001b[1;32m    395\u001b[0m         inputs\u001b[39m=\u001b[39minputs)\n\u001b[0;32m--> 396\u001b[0m torch\u001b[39m.\u001b[39;49mautograd\u001b[39m.\u001b[39;49mbackward(\u001b[39mself\u001b[39;49m, gradient, retain_graph, create_graph, inputs\u001b[39m=\u001b[39;49minputs)\n",
      "File \u001b[0;32m~/miniconda3/envs/deep/lib/python3.9/site-packages/torch/autograd/__init__.py:173\u001b[0m, in \u001b[0;36mbackward\u001b[0;34m(tensors, grad_tensors, retain_graph, create_graph, grad_variables, inputs)\u001b[0m\n\u001b[1;32m    168\u001b[0m     retain_graph \u001b[39m=\u001b[39m create_graph\n\u001b[1;32m    170\u001b[0m \u001b[39m# The reason we repeat same the comment below is that\u001b[39;00m\n\u001b[1;32m    171\u001b[0m \u001b[39m# some Python versions print out the first line of a multi-line function\u001b[39;00m\n\u001b[1;32m    172\u001b[0m \u001b[39m# calls in the traceback and some print out the last line\u001b[39;00m\n\u001b[0;32m--> 173\u001b[0m Variable\u001b[39m.\u001b[39;49m_execution_engine\u001b[39m.\u001b[39;49mrun_backward(  \u001b[39m# Calls into the C++ engine to run the backward pass\u001b[39;49;00m\n\u001b[1;32m    174\u001b[0m     tensors, grad_tensors_, retain_graph, create_graph, inputs,\n\u001b[1;32m    175\u001b[0m     allow_unreachable\u001b[39m=\u001b[39;49m\u001b[39mTrue\u001b[39;49;00m, accumulate_grad\u001b[39m=\u001b[39;49m\u001b[39mTrue\u001b[39;49;00m)\n",
      "\u001b[0;31mKeyboardInterrupt\u001b[0m: "
     ]
    }
   ],
   "source": [
    "mse_data = []\n",
    "kl_data = []\n",
    "ls = []\n",
    "cents = []\n",
    "\n",
    "for i in range(100000):\n",
    "    l, P, Q = cl(dataset)\n",
    "    x_prime = decoder(l)\n",
    "\n",
    "    mse_loss = mse(dataset, x_prime)\n",
    "    kl_loss = kl(Q, P)\n",
    "\n",
    "    dtc_loss = mse_loss + kl_loss\n",
    "\n",
    "    optimizer.zero_grad()\n",
    "    dtc_loss.backward()\n",
    "    optimizer.step()\n",
    "\n",
    "    mse_data.append(mse_loss.item())\n",
    "    kl_data.append(kl_loss.item())\n",
    "\n",
    "    if i % 100 == 0:\n",
    "        ls.append(l)\n",
    "        cents.append(cl.centroids)\n",
    "\n",
    "    if i % 1000 == 0:\n",
    "        if i  == 0:\n",
    "            continue\n",
    "        ls = [i.squeeze(1).detach() for i in ls]\n",
    "        cents = [i.squeeze(1).detach() for i in cents]\n",
    "\n",
    "        for i in range(len(ls)):\n",
    "            for j in range(3):\n",
    "                plt.plot(range(3), ls[i][0], c='r')#, alpha=i * 0.01)\n",
    "                plt.plot(range(3), ls[i][1], c='r')#, alpha=i * 0.01)\n",
    "                plt.plot(range(3), ls[i][2], c='r')#, alpha=i * 0.01)\n",
    "                plt.plot(range(3), ls[i][3], c='g')#, alpha=i * 0.01)\n",
    "                plt.plot(range(3), ls[i][4], c='g')#, alpha=i * 0.01)\n",
    "                plt.plot(range(3), ls[i][5], c='g')#, alpha=i * 0.01)\n",
    "                plt.plot(range(3), ls[i][6], c='b')#, alpha=i * 0.01)\n",
    "                plt.plot(range(3), ls[i][7], c='b')#, alpha=i * 0.01)\n",
    "                plt.plot(range(3), ls[i][8], c='b')#, alpha=i * 0.01)\n",
    "                plt.plot(range(3), cents[i][0], c='black')#, alpha=i * 0.01)\n",
    "                plt.plot(range(3), cents[i][1], c='black')#, alpha=i * 0.01)\n",
    "                plt.plot(range(3), cents[i][2], c='black')#, alpha=i * 0.01)\n",
    "\n",
    "        plt.show()\n",
    "\n",
    "        ls = []\n",
    "        cents = []"
   ]
  },
  {
   "cell_type": "code",
   "execution_count": null,
   "metadata": {},
   "outputs": [],
   "source": []
  },
  {
   "cell_type": "code",
   "execution_count": null,
   "metadata": {},
   "outputs": [],
   "source": []
  },
  {
   "cell_type": "code",
   "execution_count": null,
   "metadata": {},
   "outputs": [],
   "source": []
  },
  {
   "cell_type": "code",
   "execution_count": null,
   "metadata": {},
   "outputs": [],
   "source": []
  },
  {
   "cell_type": "code",
   "execution_count": null,
   "metadata": {},
   "outputs": [],
   "source": []
  },
  {
   "cell_type": "code",
   "execution_count": null,
   "metadata": {},
   "outputs": [],
   "source": []
  },
  {
   "cell_type": "code",
   "execution_count": null,
   "metadata": {},
   "outputs": [],
   "source": []
  },
  {
   "cell_type": "code",
   "execution_count": null,
   "metadata": {},
   "outputs": [],
   "source": []
  },
  {
   "cell_type": "code",
   "execution_count": null,
   "metadata": {},
   "outputs": [],
   "source": []
  },
  {
   "cell_type": "code",
   "execution_count": null,
   "metadata": {},
   "outputs": [],
   "source": []
  },
  {
   "cell_type": "code",
   "execution_count": null,
   "metadata": {},
   "outputs": [],
   "source": [
    "mse_data = []\n",
    "kl_data = []\n",
    "ls = []\n",
    "cents = []\n",
    "\n",
    "for i in range(100000):\n",
    "    l, P, Q = cl(dataset)\n",
    "    x_prime = decoder(l)\n",
    "\n",
    "    mse_loss = mse(dataset, x_prime)\n",
    "    kl_loss = kl(Q, P)\n",
    "\n",
    "    dtc_loss = mse_loss +  kl_loss\n",
    "\n",
    "    optimizer.zero_grad()\n",
    "    dtc_loss.backward()\n",
    "    optimizer.step()\n",
    "\n",
    "    mse_data.append(mse_loss.item())\n",
    "    kl_data.append(kl_loss.item())\n",
    "\n",
    "    if i % 100 == 0:\n",
    "        ls.append(l)\n",
    "        cents.append(cl.centroids)\n",
    "\n",
    "    if i % 1000 == 0:\n",
    "        if i  == 0:\n",
    "            continue\n",
    "        ls = [i.squeeze(1).detach() for i in ls]\n",
    "        cents = [i.squeeze(1).detach() for i in cents]\n",
    "\n",
    "        for i in range(len(ls)):\n",
    "            for j in range(3):\n",
    "                plt.plot(range(3), ls[i][0], c='r')#, alpha=i * 0.01)\n",
    "                plt.plot(range(3), ls[i][1], c='r')#, alpha=i * 0.01)\n",
    "                plt.plot(range(3), ls[i][2], c='r')#, alpha=i * 0.01)\n",
    "                plt.plot(range(3), ls[i][3], c='g')#, alpha=i * 0.01)\n",
    "                plt.plot(range(3), ls[i][4], c='g')#, alpha=i * 0.01)\n",
    "                plt.plot(range(3), ls[i][5], c='g')#, alpha=i * 0.01)\n",
    "                plt.plot(range(3), ls[i][6], c='b')#, alpha=i * 0.01)\n",
    "                plt.plot(range(3), ls[i][7], c='b')#, alpha=i * 0.01)\n",
    "                plt.plot(range(3), ls[i][8], c='b')#, alpha=i * 0.01)\n",
    "                plt.plot(range(3), cents[i][0], c='black')#, alpha=i * 0.01)\n",
    "                plt.plot(range(3), cents[i][1], c='black')#, alpha=i * 0.01)\n",
    "                plt.plot(range(3), cents[i][2], c='black')#, alpha=i * 0.01)\n",
    "\n",
    "        plt.show()\n",
    "\n",
    "        ls = []\n",
    "        cents = []\n"
   ]
  },
  {
   "cell_type": "markdown",
   "metadata": {},
   "source": [
    "* From this experiment it seems we should add a term to repel the centroids from one another\n",
    "* From output 22 we can see that is is kind of even out the probability assignments accross the clusters. This is what we saw in last experiment.\\\n",
    "* The AE representations stabilise much faster than the KL loss moves clusters\n",
    "    * Thus we must stabilise the AE first\n",
    "* Cluster centroids commonly converge\n",
    "* After getting slightly perturbed cluster centres move to the centre between the AE latents"
   ]
  },
  {
   "cell_type": "code",
   "execution_count": null,
   "metadata": {},
   "outputs": [],
   "source": []
  },
  {
   "cell_type": "code",
   "execution_count": null,
   "metadata": {},
   "outputs": [],
   "source": []
  },
  {
   "cell_type": "code",
   "execution_count": null,
   "metadata": {},
   "outputs": [],
   "source": []
  },
  {
   "cell_type": "code",
   "execution_count": null,
   "metadata": {},
   "outputs": [],
   "source": []
  },
  {
   "cell_type": "code",
   "execution_count": null,
   "metadata": {},
   "outputs": [],
   "source": []
  },
  {
   "cell_type": "code",
   "execution_count": null,
   "metadata": {},
   "outputs": [],
   "source": []
  },
  {
   "cell_type": "code",
   "execution_count": null,
   "metadata": {},
   "outputs": [],
   "source": [
    "plt.plot(range(len(mse_data)), mse_data)\n",
    "plt.show()"
   ]
  },
  {
   "cell_type": "code",
   "execution_count": null,
   "metadata": {},
   "outputs": [],
   "source": [
    "plt.plot(range(len(kl_data)), kl_data)\n",
    "plt.show()"
   ]
  },
  {
   "cell_type": "code",
   "execution_count": null,
   "metadata": {},
   "outputs": [],
   "source": [
    "ls = [i.squeeze(1).detach() for i in ls]\n",
    "cents = [i.squeeze(1).detach() for i in cents]"
   ]
  },
  {
   "cell_type": "code",
   "execution_count": null,
   "metadata": {},
   "outputs": [],
   "source": [
    "for i in range(len(ls)):\n",
    "    for j in range(3):\n",
    "        plt.plot(range(3), ls[i][0], c='r')#, alpha=i * 0.01)\n",
    "        plt.plot(range(3), ls[i][1], c='g')#, alpha=i * 0.01)\n",
    "        plt.plot(range(3), ls[i][2], c='b')#, alpha=i * 0.01)\n",
    "        plt.plot(range(3), cents[i][0], c='black')#, alpha=i * 0.01)\n",
    "        plt.plot(range(3), cents[i][1], c='black')#, alpha=i * 0.01)\n",
    "        plt.plot(range(3), cents[i][2], c='black')#, alpha=i * 0.01)"
   ]
  },
  {
   "cell_type": "code",
   "execution_count": null,
   "metadata": {},
   "outputs": [],
   "source": [
    "ls"
   ]
  },
  {
   "cell_type": "code",
   "execution_count": null,
   "metadata": {},
   "outputs": [],
   "source": []
  }
 ],
 "metadata": {
  "kernelspec": {
   "display_name": "Python 3.9.12 ('deep')",
   "language": "python",
   "name": "python3"
  },
  "language_info": {
   "codemirror_mode": {
    "name": "ipython",
    "version": 3
   },
   "file_extension": ".py",
   "mimetype": "text/x-python",
   "name": "python",
   "nbconvert_exporter": "python",
   "pygments_lexer": "ipython3",
   "version": "3.9.12"
  },
  "orig_nbformat": 4,
  "vscode": {
   "interpreter": {
    "hash": "6a2a3a3af096816301c7178121b9f28748e16a7be369f0d245d4beffb3ebaa12"
   }
  }
 },
 "nbformat": 4,
 "nbformat_minor": 2
}
